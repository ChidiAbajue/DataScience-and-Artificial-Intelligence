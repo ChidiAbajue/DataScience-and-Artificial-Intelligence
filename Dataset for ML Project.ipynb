{
 "cells": [
  {
   "cell_type": "code",
   "execution_count": 52,
   "id": "6b264509",
   "metadata": {},
   "outputs": [],
   "source": [
    "import pandas as pd\n",
    "import csv\n",
    "from sklearn import datasets"
   ]
  },
  {
   "cell_type": "code",
   "execution_count": 50,
   "id": "9cbc9338",
   "metadata": {},
   "outputs": [],
   "source": [
    "def formatRegressionFormat(data, outputFilePath, positive = 'Yes', negative = 'No'):\n",
    "    # Usage Example:\n",
    "    # household1 = pd.read_csv(r'./dataset/Makana Island Household Dataset.csv')\n",
    "    # household1.drop(['Unnamed: 0', 'Country', 'District', 'Age', 'Occupation',\n",
    "    #       'Economic Status',\n",
    "    #       'Annual Income (in USD)', 'Marital Status', 'Number of Children',\n",
    "    #       'Number of Dependents', 'Luxury Items Owned',\n",
    "    #       'Level of Education'], axis = 1, inplace = True)\n",
    "    # formatRegressionFormat(household1, './dataset/householdTest.csv')\n",
    "    \n",
    "    def encode(x, positive, negative):\n",
    "        if x == positive:\n",
    "            return 1\n",
    "        elif x == negative:\n",
    "            return 0\n",
    "    \n",
    "    for column in data.columns:\n",
    "        data[column] = [encode(x, positive, negative) for x in data[column]]\n",
    "    \n",
    "    values = [list(x) for x in list(data.values)]\n",
    "   \n",
    "    for i in range(len(values)):\n",
    "        for j in range(5):\n",
    "            values[i][j] = str(values[i][j]) + ','\n",
    "    data_csv = open(outputFilePath, 'w')\n",
    "    for i in range(len(values)):\n",
    "        for j in range(len(values[i])):\n",
    "            data_csv.write(str(values[i][j]))\n",
    "        data_csv.write('\\n')\n",
    "    data_csv.close()\n",
    "    print('File successfully formatted as csv and saved at {0}'.format(outputFilePath))"
   ]
  },
  {
   "cell_type": "code",
   "execution_count": 2,
   "id": "e5bdbabe",
   "metadata": {
    "collapsed": true
   },
   "outputs": [],
   "source": [
    "df = pd.read_csv(r\"./dataset/file_movement_dataset.csv\")"
   ]
  },
  {
   "cell_type": "code",
   "execution_count": 3,
   "id": "1cec764a",
   "metadata": {
    "collapsed": true
   },
   "outputs": [
    {
     "data": {
      "text/html": [
       "<div>\n",
       "<style scoped>\n",
       "    .dataframe tbody tr th:only-of-type {\n",
       "        vertical-align: middle;\n",
       "    }\n",
       "\n",
       "    .dataframe tbody tr th {\n",
       "        vertical-align: top;\n",
       "    }\n",
       "\n",
       "    .dataframe thead th {\n",
       "        text-align: right;\n",
       "    }\n",
       "</style>\n",
       "<table border=\"1\" class=\"dataframe\">\n",
       "  <thead>\n",
       "    <tr style=\"text-align: right;\">\n",
       "      <th></th>\n",
       "      <th>File Name</th>\n",
       "      <th>File Extension</th>\n",
       "      <th>File Size (Bytes)</th>\n",
       "      <th>File Size (KB)</th>\n",
       "      <th>File Size (MB)</th>\n",
       "      <th>File Creation Time</th>\n",
       "      <th>Last Modified Time</th>\n",
       "      <th>Destination Folder</th>\n",
       "    </tr>\n",
       "  </thead>\n",
       "  <tbody>\n",
       "    <tr>\n",
       "      <th>0</th>\n",
       "      <td>file_1</td>\n",
       "      <td>.aac</td>\n",
       "      <td>1003387</td>\n",
       "      <td>979.87</td>\n",
       "      <td>0.96</td>\n",
       "      <td>1.702799e+09</td>\n",
       "      <td>1.707166e+09</td>\n",
       "      <td>Music</td>\n",
       "    </tr>\n",
       "    <tr>\n",
       "      <th>1</th>\n",
       "      <td>file_2</td>\n",
       "      <td>.bmp</td>\n",
       "      <td>59455</td>\n",
       "      <td>58.06</td>\n",
       "      <td>0.06</td>\n",
       "      <td>1.696625e+09</td>\n",
       "      <td>1.705007e+09</td>\n",
       "      <td>Pictures</td>\n",
       "    </tr>\n",
       "  </tbody>\n",
       "</table>\n",
       "</div>"
      ],
      "text/plain": [
       "  File Name File Extension  File Size (Bytes)  File Size (KB)  File Size (MB)  \\\n",
       "0    file_1           .aac            1003387          979.87            0.96   \n",
       "1    file_2           .bmp              59455           58.06            0.06   \n",
       "\n",
       "   File Creation Time  Last Modified Time Destination Folder  \n",
       "0        1.702799e+09        1.707166e+09              Music  \n",
       "1        1.696625e+09        1.705007e+09           Pictures  "
      ]
     },
     "execution_count": 3,
     "metadata": {},
     "output_type": "execute_result"
    }
   ],
   "source": [
    "df.head(2)"
   ]
  },
  {
   "cell_type": "code",
   "execution_count": 4,
   "id": "c2d5cff0",
   "metadata": {
    "collapsed": true
   },
   "outputs": [
    {
     "data": {
      "text/plain": [
       "Documents    24\n",
       "Downloads    21\n",
       "Scripts      21\n",
       "Pictures     20\n",
       "CAD          18\n",
       "Videos       16\n",
       "Music        13\n",
       "Web          11\n",
       "PowerBI       3\n",
       "Notebooks     3\n",
       "Name: Destination Folder, dtype: int64"
      ]
     },
     "execution_count": 4,
     "metadata": {},
     "output_type": "execute_result"
    }
   ],
   "source": [
    "df['Destination Folder'].value_counts()"
   ]
  },
  {
   "cell_type": "markdown",
   "id": "570d4fd1",
   "metadata": {},
   "source": [
    "# \n",
    "# \n",
    "# \n",
    "# \n",
    "# \n",
    "# \n",
    "# "
   ]
  },
  {
   "cell_type": "code",
   "execution_count": 5,
   "id": "6a0f0071",
   "metadata": {
    "collapsed": true
   },
   "outputs": [],
   "source": [
    "iris = pd.read_csv(r'./dataset/iris2.csv')"
   ]
  },
  {
   "cell_type": "code",
   "execution_count": 40,
   "id": "ad74b27b",
   "metadata": {
    "collapsed": true
   },
   "outputs": [],
   "source": [
    "del iris['Iris-Setosa']"
   ]
  },
  {
   "cell_type": "code",
   "execution_count": 42,
   "id": "f2de99c7",
   "metadata": {
    "collapsed": true
   },
   "outputs": [
    {
     "data": {
      "text/plain": [
       "array([[1.00e+00, 4.90e+00, 3.00e+00, 1.40e+00, 2.00e-01, 0.00e+00],\n",
       "       [2.00e+00, 4.70e+00, 3.20e+00, 1.30e+00, 2.00e-01, 0.00e+00],\n",
       "       [3.00e+00, 4.60e+00, 3.10e+00, 1.50e+00, 2.00e-01, 0.00e+00],\n",
       "       [4.00e+00, 5.00e+00, 3.60e+00, 1.40e+00, 2.00e-01, 0.00e+00],\n",
       "       [5.00e+00, 5.40e+00, 3.90e+00, 1.70e+00, 4.00e-01, 0.00e+00],\n",
       "       [6.00e+00, 4.60e+00, 3.40e+00, 1.40e+00, 3.00e-01, 0.00e+00],\n",
       "       [7.00e+00, 5.00e+00, 3.40e+00, 1.50e+00, 2.00e-01, 0.00e+00],\n",
       "       [8.00e+00, 4.40e+00, 2.90e+00, 1.40e+00, 2.00e-01, 0.00e+00],\n",
       "       [9.00e+00, 4.90e+00, 3.10e+00, 1.50e+00, 1.00e-01, 0.00e+00],\n",
       "       [1.00e+01, 5.40e+00, 3.70e+00, 1.50e+00, 2.00e-01, 0.00e+00],\n",
       "       [1.10e+01, 4.80e+00, 3.40e+00, 1.60e+00, 2.00e-01, 0.00e+00],\n",
       "       [1.20e+01, 4.80e+00, 3.00e+00, 1.40e+00, 1.00e-01, 0.00e+00],\n",
       "       [1.30e+01, 4.30e+00, 3.00e+00, 1.10e+00, 1.00e-01, 0.00e+00],\n",
       "       [1.40e+01, 5.80e+00, 4.00e+00, 1.20e+00, 2.00e-01, 0.00e+00],\n",
       "       [1.50e+01, 5.70e+00, 4.40e+00, 1.50e+00, 4.00e-01, 0.00e+00],\n",
       "       [1.60e+01, 5.40e+00, 3.90e+00, 1.30e+00, 4.00e-01, 0.00e+00],\n",
       "       [1.70e+01, 5.10e+00, 3.50e+00, 1.40e+00, 3.00e-01, 0.00e+00],\n",
       "       [1.80e+01, 5.70e+00, 3.80e+00, 1.70e+00, 3.00e-01, 0.00e+00],\n",
       "       [1.90e+01, 5.10e+00, 3.80e+00, 1.50e+00, 3.00e-01, 0.00e+00],\n",
       "       [2.00e+01, 5.40e+00, 3.40e+00, 1.70e+00, 2.00e-01, 0.00e+00],\n",
       "       [2.10e+01, 5.10e+00, 3.70e+00, 1.50e+00, 4.00e-01, 0.00e+00],\n",
       "       [2.20e+01, 4.60e+00, 3.60e+00, 1.00e+00, 2.00e-01, 0.00e+00],\n",
       "       [2.30e+01, 5.10e+00, 3.30e+00, 1.70e+00, 5.00e-01, 0.00e+00],\n",
       "       [2.40e+01, 4.80e+00, 3.40e+00, 1.90e+00, 2.00e-01, 0.00e+00],\n",
       "       [2.50e+01, 5.00e+00, 3.00e+00, 1.60e+00, 2.00e-01, 0.00e+00],\n",
       "       [2.60e+01, 5.00e+00, 3.40e+00, 1.60e+00, 4.00e-01, 0.00e+00],\n",
       "       [2.70e+01, 5.20e+00, 3.50e+00, 1.50e+00, 2.00e-01, 0.00e+00],\n",
       "       [2.80e+01, 5.20e+00, 3.40e+00, 1.40e+00, 2.00e-01, 0.00e+00],\n",
       "       [2.90e+01, 4.70e+00, 3.20e+00, 1.60e+00, 2.00e-01, 0.00e+00],\n",
       "       [3.00e+01, 4.80e+00, 3.10e+00, 1.60e+00, 2.00e-01, 0.00e+00],\n",
       "       [3.10e+01, 5.40e+00, 3.40e+00, 1.50e+00, 4.00e-01, 0.00e+00],\n",
       "       [3.20e+01, 5.20e+00, 4.10e+00, 1.50e+00, 1.00e-01, 0.00e+00],\n",
       "       [3.30e+01, 5.50e+00, 4.20e+00, 1.40e+00, 2.00e-01, 0.00e+00],\n",
       "       [3.40e+01, 4.90e+00, 3.10e+00, 1.50e+00, 2.00e-01, 0.00e+00],\n",
       "       [3.50e+01, 5.00e+00, 3.20e+00, 1.20e+00, 2.00e-01, 0.00e+00],\n",
       "       [3.60e+01, 5.50e+00, 3.50e+00, 1.30e+00, 2.00e-01, 0.00e+00],\n",
       "       [3.70e+01, 4.90e+00, 3.60e+00, 1.40e+00, 1.00e-01, 0.00e+00],\n",
       "       [3.80e+01, 4.40e+00, 3.00e+00, 1.30e+00, 2.00e-01, 0.00e+00],\n",
       "       [3.90e+01, 5.10e+00, 3.40e+00, 1.50e+00, 2.00e-01, 0.00e+00],\n",
       "       [4.00e+01, 5.00e+00, 3.50e+00, 1.30e+00, 3.00e-01, 0.00e+00],\n",
       "       [4.10e+01, 4.50e+00, 2.30e+00, 1.30e+00, 3.00e-01, 0.00e+00],\n",
       "       [4.20e+01, 4.40e+00, 3.20e+00, 1.30e+00, 2.00e-01, 0.00e+00],\n",
       "       [4.30e+01, 5.00e+00, 3.50e+00, 1.60e+00, 6.00e-01, 0.00e+00],\n",
       "       [4.40e+01, 5.10e+00, 3.80e+00, 1.90e+00, 4.00e-01, 0.00e+00],\n",
       "       [4.50e+01, 4.80e+00, 3.00e+00, 1.40e+00, 3.00e-01, 0.00e+00],\n",
       "       [4.60e+01, 5.10e+00, 3.80e+00, 1.60e+00, 2.00e-01, 0.00e+00],\n",
       "       [4.70e+01, 4.60e+00, 3.20e+00, 1.40e+00, 2.00e-01, 0.00e+00],\n",
       "       [4.80e+01, 5.30e+00, 3.70e+00, 1.50e+00, 2.00e-01, 0.00e+00],\n",
       "       [4.90e+01, 5.00e+00, 3.30e+00, 1.40e+00, 2.00e-01, 0.00e+00],\n",
       "       [5.00e+01, 7.00e+00, 3.20e+00, 4.70e+00, 1.40e+00, 1.00e+00],\n",
       "       [5.10e+01, 6.40e+00, 3.20e+00, 4.50e+00, 1.50e+00, 1.00e+00],\n",
       "       [5.20e+01, 6.90e+00, 3.10e+00, 4.90e+00, 1.50e+00, 1.00e+00],\n",
       "       [5.30e+01, 5.50e+00, 2.30e+00, 4.00e+00, 1.30e+00, 1.00e+00],\n",
       "       [5.40e+01, 6.50e+00, 2.80e+00, 4.60e+00, 1.50e+00, 1.00e+00],\n",
       "       [5.50e+01, 5.70e+00, 2.80e+00, 4.50e+00, 1.30e+00, 1.00e+00],\n",
       "       [5.60e+01, 6.30e+00, 3.30e+00, 4.70e+00, 1.60e+00, 1.00e+00],\n",
       "       [5.70e+01, 4.90e+00, 2.40e+00, 3.30e+00, 1.00e+00, 1.00e+00],\n",
       "       [5.80e+01, 6.60e+00, 2.90e+00, 4.60e+00, 1.30e+00, 1.00e+00],\n",
       "       [5.90e+01, 5.20e+00, 2.70e+00, 3.90e+00, 1.40e+00, 1.00e+00],\n",
       "       [6.00e+01, 5.00e+00, 2.00e+00, 3.50e+00, 1.00e+00, 1.00e+00],\n",
       "       [6.10e+01, 5.90e+00, 3.00e+00, 4.20e+00, 1.50e+00, 1.00e+00],\n",
       "       [6.20e+01, 6.00e+00, 2.20e+00, 4.00e+00, 1.00e+00, 1.00e+00],\n",
       "       [6.30e+01, 6.10e+00, 2.90e+00, 4.70e+00, 1.40e+00, 1.00e+00],\n",
       "       [6.40e+01, 5.60e+00, 2.90e+00, 3.60e+00, 1.30e+00, 1.00e+00],\n",
       "       [6.50e+01, 6.70e+00, 3.10e+00, 4.40e+00, 1.40e+00, 1.00e+00],\n",
       "       [6.60e+01, 5.60e+00, 3.00e+00, 4.50e+00, 1.50e+00, 1.00e+00],\n",
       "       [6.70e+01, 5.80e+00, 2.70e+00, 4.10e+00, 1.00e+00, 1.00e+00],\n",
       "       [6.80e+01, 6.20e+00, 2.20e+00, 4.50e+00, 1.50e+00, 1.00e+00],\n",
       "       [6.90e+01, 5.60e+00, 2.50e+00, 3.90e+00, 1.10e+00, 1.00e+00],\n",
       "       [7.00e+01, 5.90e+00, 3.20e+00, 4.80e+00, 1.80e+00, 1.00e+00],\n",
       "       [7.10e+01, 6.10e+00, 2.80e+00, 4.00e+00, 1.30e+00, 1.00e+00],\n",
       "       [7.20e+01, 6.30e+00, 2.50e+00, 4.90e+00, 1.50e+00, 1.00e+00],\n",
       "       [7.30e+01, 6.10e+00, 2.80e+00, 4.70e+00, 1.20e+00, 1.00e+00],\n",
       "       [7.40e+01, 6.40e+00, 2.90e+00, 4.30e+00, 1.30e+00, 1.00e+00],\n",
       "       [7.50e+01, 6.60e+00, 3.00e+00, 4.40e+00, 1.40e+00, 1.00e+00],\n",
       "       [7.60e+01, 6.80e+00, 2.80e+00, 4.80e+00, 1.40e+00, 1.00e+00],\n",
       "       [7.70e+01, 6.70e+00, 3.00e+00, 5.00e+00, 1.70e+00, 1.00e+00],\n",
       "       [7.80e+01, 6.00e+00, 2.90e+00, 4.50e+00, 1.50e+00, 1.00e+00],\n",
       "       [7.90e+01, 5.70e+00, 2.60e+00, 3.50e+00, 1.00e+00, 1.00e+00],\n",
       "       [8.00e+01, 5.50e+00, 2.40e+00, 3.80e+00, 1.10e+00, 1.00e+00],\n",
       "       [8.10e+01, 5.50e+00, 2.40e+00, 3.70e+00, 1.00e+00, 1.00e+00],\n",
       "       [8.20e+01, 5.80e+00, 2.70e+00, 3.90e+00, 1.20e+00, 1.00e+00],\n",
       "       [8.30e+01, 6.00e+00, 2.70e+00, 5.10e+00, 1.60e+00, 1.00e+00],\n",
       "       [8.40e+01, 5.40e+00, 3.00e+00, 4.50e+00, 1.50e+00, 1.00e+00],\n",
       "       [8.50e+01, 6.00e+00, 3.40e+00, 4.50e+00, 1.60e+00, 1.00e+00],\n",
       "       [8.60e+01, 6.70e+00, 3.10e+00, 4.70e+00, 1.50e+00, 1.00e+00],\n",
       "       [8.70e+01, 6.30e+00, 2.30e+00, 4.40e+00, 1.30e+00, 1.00e+00],\n",
       "       [8.80e+01, 5.60e+00, 3.00e+00, 4.10e+00, 1.30e+00, 1.00e+00],\n",
       "       [8.90e+01, 5.50e+00, 2.50e+00, 4.00e+00, 1.30e+00, 1.00e+00],\n",
       "       [9.00e+01, 5.50e+00, 2.60e+00, 4.40e+00, 1.20e+00, 1.00e+00],\n",
       "       [9.10e+01, 6.10e+00, 3.00e+00, 4.60e+00, 1.40e+00, 1.00e+00],\n",
       "       [9.20e+01, 5.80e+00, 2.60e+00, 4.00e+00, 1.20e+00, 1.00e+00],\n",
       "       [9.30e+01, 5.00e+00, 2.30e+00, 3.30e+00, 1.00e+00, 1.00e+00],\n",
       "       [9.40e+01, 5.60e+00, 2.70e+00, 4.20e+00, 1.30e+00, 1.00e+00],\n",
       "       [9.50e+01, 5.70e+00, 3.00e+00, 4.20e+00, 1.20e+00, 1.00e+00],\n",
       "       [9.60e+01, 5.70e+00, 2.90e+00, 4.20e+00, 1.30e+00, 1.00e+00],\n",
       "       [9.70e+01, 6.20e+00, 2.90e+00, 4.30e+00, 1.30e+00, 1.00e+00],\n",
       "       [9.80e+01, 5.10e+00, 2.50e+00, 3.00e+00, 1.10e+00, 1.00e+00],\n",
       "       [9.90e+01, 5.70e+00, 2.80e+00, 4.10e+00, 1.30e+00, 1.00e+00],\n",
       "       [1.00e+02, 6.30e+00, 3.30e+00, 6.00e+00, 2.50e+00, 2.00e+00],\n",
       "       [1.01e+02, 5.80e+00, 2.70e+00, 5.10e+00, 1.90e+00, 2.00e+00],\n",
       "       [1.02e+02, 7.10e+00, 3.00e+00, 5.90e+00, 2.10e+00, 2.00e+00],\n",
       "       [1.03e+02, 6.30e+00, 2.90e+00, 5.60e+00, 1.80e+00, 2.00e+00],\n",
       "       [1.04e+02, 6.50e+00, 3.00e+00, 5.80e+00, 2.20e+00, 2.00e+00],\n",
       "       [1.05e+02, 7.60e+00, 3.00e+00, 6.60e+00, 2.10e+00, 2.00e+00],\n",
       "       [1.06e+02, 4.90e+00, 2.50e+00, 4.50e+00, 1.70e+00, 2.00e+00],\n",
       "       [1.07e+02, 7.30e+00, 2.90e+00, 6.30e+00, 1.80e+00, 2.00e+00],\n",
       "       [1.08e+02, 6.70e+00, 2.50e+00, 5.80e+00, 1.80e+00, 2.00e+00],\n",
       "       [1.09e+02, 7.20e+00, 3.60e+00, 6.10e+00, 2.50e+00, 2.00e+00],\n",
       "       [1.10e+02, 6.50e+00, 3.20e+00, 5.10e+00, 2.00e+00, 2.00e+00],\n",
       "       [1.11e+02, 6.40e+00, 2.70e+00, 5.30e+00, 1.90e+00, 2.00e+00],\n",
       "       [1.12e+02, 6.80e+00, 3.00e+00, 5.50e+00, 2.10e+00, 2.00e+00],\n",
       "       [1.13e+02, 5.70e+00, 2.50e+00, 5.00e+00, 2.00e+00, 2.00e+00],\n",
       "       [1.14e+02, 5.80e+00, 2.80e+00, 5.10e+00, 2.40e+00, 2.00e+00],\n",
       "       [1.15e+02, 6.40e+00, 3.20e+00, 5.30e+00, 2.30e+00, 2.00e+00],\n",
       "       [1.16e+02, 6.50e+00, 3.00e+00, 5.50e+00, 1.80e+00, 2.00e+00],\n",
       "       [1.17e+02, 7.70e+00, 3.80e+00, 6.70e+00, 2.20e+00, 2.00e+00],\n",
       "       [1.18e+02, 7.70e+00, 2.60e+00, 6.90e+00, 2.30e+00, 2.00e+00],\n",
       "       [1.19e+02, 6.00e+00, 2.20e+00, 5.00e+00, 1.50e+00, 2.00e+00],\n",
       "       [1.20e+02, 6.90e+00, 3.20e+00, 5.70e+00, 2.30e+00, 2.00e+00],\n",
       "       [1.21e+02, 5.60e+00, 2.80e+00, 4.90e+00, 2.00e+00, 2.00e+00],\n",
       "       [1.22e+02, 7.70e+00, 2.80e+00, 6.70e+00, 2.00e+00, 2.00e+00],\n",
       "       [1.23e+02, 6.30e+00, 2.70e+00, 4.90e+00, 1.80e+00, 2.00e+00],\n",
       "       [1.24e+02, 6.70e+00, 3.30e+00, 5.70e+00, 2.10e+00, 2.00e+00],\n",
       "       [1.25e+02, 7.20e+00, 3.20e+00, 6.00e+00, 1.80e+00, 2.00e+00],\n",
       "       [1.26e+02, 6.20e+00, 2.80e+00, 4.80e+00, 1.80e+00, 2.00e+00],\n",
       "       [1.27e+02, 6.10e+00, 3.00e+00, 4.90e+00, 1.80e+00, 2.00e+00],\n",
       "       [1.28e+02, 6.40e+00, 2.80e+00, 5.60e+00, 2.10e+00, 2.00e+00],\n",
       "       [1.29e+02, 7.20e+00, 3.00e+00, 5.80e+00, 1.60e+00, 2.00e+00],\n",
       "       [1.30e+02, 7.40e+00, 2.80e+00, 6.10e+00, 1.90e+00, 2.00e+00],\n",
       "       [1.31e+02, 7.90e+00, 3.80e+00, 6.40e+00, 2.00e+00, 2.00e+00],\n",
       "       [1.32e+02, 6.40e+00, 2.80e+00, 5.60e+00, 2.20e+00, 2.00e+00],\n",
       "       [1.33e+02, 6.30e+00, 2.80e+00, 5.10e+00, 1.50e+00, 2.00e+00],\n",
       "       [1.34e+02, 6.10e+00, 2.60e+00, 5.60e+00, 1.40e+00, 2.00e+00],\n",
       "       [1.35e+02, 7.70e+00, 3.00e+00, 6.10e+00, 2.30e+00, 2.00e+00],\n",
       "       [1.36e+02, 6.30e+00, 3.40e+00, 5.60e+00, 2.40e+00, 2.00e+00],\n",
       "       [1.37e+02, 6.40e+00, 3.10e+00, 5.50e+00, 1.80e+00, 2.00e+00],\n",
       "       [1.38e+02, 6.00e+00, 3.00e+00, 4.80e+00, 1.80e+00, 2.00e+00],\n",
       "       [1.39e+02, 6.90e+00, 3.10e+00, 5.40e+00, 2.10e+00, 2.00e+00],\n",
       "       [1.40e+02, 6.70e+00, 3.10e+00, 5.60e+00, 2.40e+00, 2.00e+00],\n",
       "       [1.41e+02, 6.90e+00, 3.10e+00, 5.10e+00, 2.30e+00, 2.00e+00],\n",
       "       [1.42e+02, 5.80e+00, 2.70e+00, 5.10e+00, 1.90e+00, 2.00e+00],\n",
       "       [1.43e+02, 6.80e+00, 3.20e+00, 5.90e+00, 2.30e+00, 2.00e+00],\n",
       "       [1.44e+02, 6.70e+00, 3.30e+00, 5.70e+00, 2.50e+00, 2.00e+00],\n",
       "       [1.45e+02, 6.70e+00, 3.00e+00, 5.20e+00, 2.30e+00, 2.00e+00],\n",
       "       [1.46e+02, 6.30e+00, 2.50e+00, 5.00e+00, 1.90e+00, 2.00e+00],\n",
       "       [1.47e+02, 6.50e+00, 3.00e+00, 5.20e+00, 2.00e+00, 2.00e+00],\n",
       "       [1.48e+02, 6.20e+00, 3.40e+00, 5.40e+00, 2.30e+00, 2.00e+00],\n",
       "       [1.49e+02, 5.90e+00, 3.00e+00, 5.10e+00, 1.80e+00, 2.00e+00]])"
      ]
     },
     "execution_count": 42,
     "metadata": {},
     "output_type": "execute_result"
    }
   ],
   "source": [
    "iris.values"
   ]
  },
  {
   "cell_type": "markdown",
   "id": "eea8ae49",
   "metadata": {},
   "source": [
    "# \n",
    "# \n",
    "# \n",
    "# \n",
    "# \n",
    "# \n",
    "# "
   ]
  },
  {
   "cell_type": "code",
   "execution_count": 43,
   "id": "3aa058dd",
   "metadata": {},
   "outputs": [],
   "source": [
    "def encode(x, positive, negative):\n",
    "    if x == positive:\n",
    "        return 1\n",
    "    elif x == negative:\n",
    "        return 0"
   ]
  },
  {
   "cell_type": "code",
   "execution_count": 36,
   "id": "9e194b99",
   "metadata": {
    "collapsed": true
   },
   "outputs": [],
   "source": [
    "household = pd.read_csv(r'./dataset/Makana Island Household Dataset.csv')"
   ]
  },
  {
   "cell_type": "code",
   "execution_count": 37,
   "id": "ab45658f",
   "metadata": {
    "collapsed": true
   },
   "outputs": [
    {
     "data": {
      "text/plain": [
       "Index(['Unnamed: 0', 'Country', 'District', 'Age', 'Occupation',\n",
       "       'Economic Status', 'Pays Tax', 'Is District Urban', 'Owns A Business',\n",
       "       'Annual Income (in USD)', 'Marital Status', 'Number of Children',\n",
       "       'Number of Dependents', 'Owns a Car',\n",
       "       'Subscribed to Island's Health Insurance Scheme', 'Luxury Items Owned',\n",
       "       'Level of Education', 'Parents Literate?'],\n",
       "      dtype='object')"
      ]
     },
     "execution_count": 37,
     "metadata": {},
     "output_type": "execute_result"
    }
   ],
   "source": [
    "household.columns"
   ]
  },
  {
   "cell_type": "code",
   "execution_count": 38,
   "id": "d1e5f9ab",
   "metadata": {
    "collapsed": true
   },
   "outputs": [],
   "source": [
    "household.drop(['Unnamed: 0', 'Country', 'District', 'Age', 'Occupation',\n",
    "       'Economic Status',\n",
    "       'Annual Income (in USD)', 'Marital Status', 'Number of Children',\n",
    "       'Number of Dependents', 'Luxury Items Owned',\n",
    "       'Level of Education'], axis = 1, inplace = True)"
   ]
  },
  {
   "cell_type": "code",
   "execution_count": 23,
   "id": "62d33ace",
   "metadata": {
    "collapsed": true
   },
   "outputs": [],
   "source": [
    "values = list(household.values)\n",
    "values = [list(x) for x in values]"
   ]
  },
  {
   "cell_type": "code",
   "execution_count": 24,
   "id": "9ab488cb",
   "metadata": {
    "collapsed": true
   },
   "outputs": [
    {
     "data": {
      "text/plain": [
       "[[1, 0, 1, 1, 1, 1],\n",
       " [1, 1, 0, 1, 1, 0],\n",
       " [0, 0, 0, 0, 1, 1],\n",
       " [1, 1, 1, 1, 0, 1],\n",
       " [1, 1, 1, 0, 0, 1]]"
      ]
     },
     "execution_count": 24,
     "metadata": {},
     "output_type": "execute_result"
    }
   ],
   "source": [
    "values[:5]"
   ]
  },
  {
   "cell_type": "code",
   "execution_count": 25,
   "id": "e7480b3d",
   "metadata": {
    "collapsed": true
   },
   "outputs": [],
   "source": [
    "for i in range(len(values)):\n",
    "    for j in range(5):\n",
    "        values[i][j] = str(values[i][j]) + ','"
   ]
  },
  {
   "cell_type": "code",
   "execution_count": 26,
   "id": "de951528",
   "metadata": {
    "collapsed": true
   },
   "outputs": [
    {
     "data": {
      "text/plain": [
       "[['1,', '0,', '1,', '1,', '1,', 1],\n",
       " ['1,', '1,', '0,', '1,', '1,', 0],\n",
       " ['0,', '0,', '0,', '0,', '1,', 1],\n",
       " ['1,', '1,', '1,', '1,', '0,', 1],\n",
       " ['1,', '1,', '1,', '0,', '0,', 1]]"
      ]
     },
     "execution_count": 26,
     "metadata": {},
     "output_type": "execute_result"
    }
   ],
   "source": [
    "values[:5]"
   ]
  },
  {
   "cell_type": "code",
   "execution_count": 27,
   "id": "7a34d355",
   "metadata": {
    "collapsed": true
   },
   "outputs": [],
   "source": [
    "household_csv = open(r'./dataset/household_value_regression.csv', 'w')"
   ]
  },
  {
   "cell_type": "code",
   "execution_count": 28,
   "id": "d84ea2dc",
   "metadata": {
    "collapsed": true
   },
   "outputs": [],
   "source": [
    "for i in range(len(values)):\n",
    "    for j in range(6):\n",
    "        household_csv.write(str(values[i][j]))\n",
    "    household_csv.write('\\n')\n",
    "household_csv.close()"
   ]
  },
  {
   "cell_type": "code",
   "execution_count": 29,
   "id": "99d7bcf4",
   "metadata": {
    "collapsed": true
   },
   "outputs": [
    {
     "data": {
      "text/html": [
       "<div>\n",
       "<style scoped>\n",
       "    .dataframe tbody tr th:only-of-type {\n",
       "        vertical-align: middle;\n",
       "    }\n",
       "\n",
       "    .dataframe tbody tr th {\n",
       "        vertical-align: top;\n",
       "    }\n",
       "\n",
       "    .dataframe thead th {\n",
       "        text-align: right;\n",
       "    }\n",
       "</style>\n",
       "<table border=\"1\" class=\"dataframe\">\n",
       "  <thead>\n",
       "    <tr style=\"text-align: right;\">\n",
       "      <th></th>\n",
       "      <th>Yes</th>\n",
       "      <th>Yes.1</th>\n",
       "      <th>Yes.2</th>\n",
       "      <th>No</th>\n",
       "      <th>Yes.3</th>\n",
       "      <th>Yes.4</th>\n",
       "    </tr>\n",
       "  </thead>\n",
       "  <tbody>\n",
       "    <tr>\n",
       "      <th>0</th>\n",
       "      <td>1</td>\n",
       "      <td>0</td>\n",
       "      <td>1</td>\n",
       "      <td>1</td>\n",
       "      <td>1</td>\n",
       "      <td>1</td>\n",
       "    </tr>\n",
       "  </tbody>\n",
       "</table>\n",
       "</div>"
      ],
      "text/plain": [
       "   Yes  Yes.1  Yes.2  No  Yes.3  Yes.4\n",
       "0    1      0      1   1      1      1"
      ]
     },
     "execution_count": 29,
     "metadata": {},
     "output_type": "execute_result"
    }
   ],
   "source": [
    "household.head(1)"
   ]
  },
  {
   "cell_type": "code",
   "execution_count": 30,
   "id": "0ed5b17b",
   "metadata": {
    "collapsed": true
   },
   "outputs": [
    {
     "data": {
      "text/html": [
       "<div>\n",
       "<style scoped>\n",
       "    .dataframe tbody tr th:only-of-type {\n",
       "        vertical-align: middle;\n",
       "    }\n",
       "\n",
       "    .dataframe tbody tr th {\n",
       "        vertical-align: top;\n",
       "    }\n",
       "\n",
       "    .dataframe thead th {\n",
       "        text-align: right;\n",
       "    }\n",
       "</style>\n",
       "<table border=\"1\" class=\"dataframe\">\n",
       "  <thead>\n",
       "    <tr style=\"text-align: right;\">\n",
       "      <th></th>\n",
       "      <th>1</th>\n",
       "      <th>0</th>\n",
       "      <th>1.1</th>\n",
       "      <th>1.2</th>\n",
       "      <th>1.3</th>\n",
       "      <th>1.4</th>\n",
       "    </tr>\n",
       "  </thead>\n",
       "  <tbody>\n",
       "    <tr>\n",
       "      <th>0</th>\n",
       "      <td>1</td>\n",
       "      <td>1</td>\n",
       "      <td>0</td>\n",
       "      <td>1</td>\n",
       "      <td>1</td>\n",
       "      <td>0</td>\n",
       "    </tr>\n",
       "    <tr>\n",
       "      <th>1</th>\n",
       "      <td>0</td>\n",
       "      <td>0</td>\n",
       "      <td>0</td>\n",
       "      <td>0</td>\n",
       "      <td>1</td>\n",
       "      <td>1</td>\n",
       "    </tr>\n",
       "    <tr>\n",
       "      <th>2</th>\n",
       "      <td>1</td>\n",
       "      <td>1</td>\n",
       "      <td>1</td>\n",
       "      <td>1</td>\n",
       "      <td>0</td>\n",
       "      <td>1</td>\n",
       "    </tr>\n",
       "  </tbody>\n",
       "</table>\n",
       "</div>"
      ],
      "text/plain": [
       "   1  0  1.1  1.2  1.3  1.4\n",
       "0  1  1    0    1    1    0\n",
       "1  0  0    0    0    1    1\n",
       "2  1  1    1    1    0    1"
      ]
     },
     "execution_count": 30,
     "metadata": {},
     "output_type": "execute_result"
    }
   ],
   "source": [
    "newdf = pd.read_csv(r'./dataset/household_value_regression.csv')\n",
    "newdf.head(3)"
   ]
  },
  {
   "cell_type": "code",
   "execution_count": 31,
   "id": "554c77ff",
   "metadata": {
    "collapsed": true
   },
   "outputs": [],
   "source": [
    "# for column in newdf.columns:\n",
    "  #  newdf[column] = [encode(x, 'Yes', 'No') for x in newdf[column]]"
   ]
  },
  {
   "cell_type": "code",
   "execution_count": 32,
   "id": "c247231e",
   "metadata": {
    "collapsed": true
   },
   "outputs": [],
   "source": [
    "# Household data from the top is reassigned to newdf so that it can be rerun from the values cell and the values alone get written in the csv file\n",
    "# household = newdf\n",
    "# after running this cell, rerun all cells starting from the cell where the 'values' variable is created with this cell and the preceding one commented out"
   ]
  },
  {
   "cell_type": "code",
   "execution_count": 33,
   "id": "eb92c9bf",
   "metadata": {
    "collapsed": true
   },
   "outputs": [
    {
     "data": {
      "text/html": [
       "<div>\n",
       "<style scoped>\n",
       "    .dataframe tbody tr th:only-of-type {\n",
       "        vertical-align: middle;\n",
       "    }\n",
       "\n",
       "    .dataframe tbody tr th {\n",
       "        vertical-align: top;\n",
       "    }\n",
       "\n",
       "    .dataframe thead th {\n",
       "        text-align: right;\n",
       "    }\n",
       "</style>\n",
       "<table border=\"1\" class=\"dataframe\">\n",
       "  <thead>\n",
       "    <tr style=\"text-align: right;\">\n",
       "      <th></th>\n",
       "      <th>1</th>\n",
       "      <th>0</th>\n",
       "      <th>1.1</th>\n",
       "      <th>1.2</th>\n",
       "      <th>1.3</th>\n",
       "      <th>1.4</th>\n",
       "    </tr>\n",
       "  </thead>\n",
       "  <tbody>\n",
       "    <tr>\n",
       "      <th>count</th>\n",
       "      <td>153579.000000</td>\n",
       "      <td>153579.000000</td>\n",
       "      <td>153579.000000</td>\n",
       "      <td>153579.000000</td>\n",
       "      <td>153579.000000</td>\n",
       "      <td>153579.000000</td>\n",
       "    </tr>\n",
       "    <tr>\n",
       "      <th>mean</th>\n",
       "      <td>0.498974</td>\n",
       "      <td>0.601742</td>\n",
       "      <td>0.500153</td>\n",
       "      <td>0.498408</td>\n",
       "      <td>0.502022</td>\n",
       "      <td>0.697042</td>\n",
       "    </tr>\n",
       "    <tr>\n",
       "      <th>std</th>\n",
       "      <td>0.500001</td>\n",
       "      <td>0.489541</td>\n",
       "      <td>0.500002</td>\n",
       "      <td>0.499999</td>\n",
       "      <td>0.499998</td>\n",
       "      <td>0.459539</td>\n",
       "    </tr>\n",
       "    <tr>\n",
       "      <th>min</th>\n",
       "      <td>0.000000</td>\n",
       "      <td>0.000000</td>\n",
       "      <td>0.000000</td>\n",
       "      <td>0.000000</td>\n",
       "      <td>0.000000</td>\n",
       "      <td>0.000000</td>\n",
       "    </tr>\n",
       "    <tr>\n",
       "      <th>25%</th>\n",
       "      <td>0.000000</td>\n",
       "      <td>0.000000</td>\n",
       "      <td>0.000000</td>\n",
       "      <td>0.000000</td>\n",
       "      <td>0.000000</td>\n",
       "      <td>0.000000</td>\n",
       "    </tr>\n",
       "    <tr>\n",
       "      <th>50%</th>\n",
       "      <td>0.000000</td>\n",
       "      <td>1.000000</td>\n",
       "      <td>1.000000</td>\n",
       "      <td>0.000000</td>\n",
       "      <td>1.000000</td>\n",
       "      <td>1.000000</td>\n",
       "    </tr>\n",
       "    <tr>\n",
       "      <th>75%</th>\n",
       "      <td>1.000000</td>\n",
       "      <td>1.000000</td>\n",
       "      <td>1.000000</td>\n",
       "      <td>1.000000</td>\n",
       "      <td>1.000000</td>\n",
       "      <td>1.000000</td>\n",
       "    </tr>\n",
       "    <tr>\n",
       "      <th>max</th>\n",
       "      <td>1.000000</td>\n",
       "      <td>1.000000</td>\n",
       "      <td>1.000000</td>\n",
       "      <td>1.000000</td>\n",
       "      <td>1.000000</td>\n",
       "      <td>1.000000</td>\n",
       "    </tr>\n",
       "  </tbody>\n",
       "</table>\n",
       "</div>"
      ],
      "text/plain": [
       "                   1              0            1.1            1.2  \\\n",
       "count  153579.000000  153579.000000  153579.000000  153579.000000   \n",
       "mean        0.498974       0.601742       0.500153       0.498408   \n",
       "std         0.500001       0.489541       0.500002       0.499999   \n",
       "min         0.000000       0.000000       0.000000       0.000000   \n",
       "25%         0.000000       0.000000       0.000000       0.000000   \n",
       "50%         0.000000       1.000000       1.000000       0.000000   \n",
       "75%         1.000000       1.000000       1.000000       1.000000   \n",
       "max         1.000000       1.000000       1.000000       1.000000   \n",
       "\n",
       "                 1.3            1.4  \n",
       "count  153579.000000  153579.000000  \n",
       "mean        0.502022       0.697042  \n",
       "std         0.499998       0.459539  \n",
       "min         0.000000       0.000000  \n",
       "25%         0.000000       0.000000  \n",
       "50%         1.000000       1.000000  \n",
       "75%         1.000000       1.000000  \n",
       "max         1.000000       1.000000  "
      ]
     },
     "execution_count": 33,
     "metadata": {},
     "output_type": "execute_result"
    }
   ],
   "source": [
    "newdf.describe()"
   ]
  },
  {
   "cell_type": "code",
   "execution_count": 39,
   "id": "578cd207",
   "metadata": {
    "collapsed": true
   },
   "outputs": [
    {
     "data": {
      "text/plain": [
       "Index(['Pays Tax', 'Is District Urban', 'Owns A Business', 'Owns a Car',\n",
       "       'Subscribed to Island's Health Insurance Scheme', 'Parents Literate?'],\n",
       "      dtype='object')"
      ]
     },
     "execution_count": 39,
     "metadata": {},
     "output_type": "execute_result"
    }
   ],
   "source": [
    "household.columns"
   ]
  }
 ],
 "metadata": {
  "kernelspec": {
   "display_name": "Python 3 (ipykernel)",
   "language": "python",
   "name": "python3"
  },
  "language_info": {
   "codemirror_mode": {
    "name": "ipython",
    "version": 3
   },
   "file_extension": ".py",
   "mimetype": "text/x-python",
   "name": "python",
   "nbconvert_exporter": "python",
   "pygments_lexer": "ipython3",
   "version": "3.9.12"
  }
 },
 "nbformat": 4,
 "nbformat_minor": 5
}
