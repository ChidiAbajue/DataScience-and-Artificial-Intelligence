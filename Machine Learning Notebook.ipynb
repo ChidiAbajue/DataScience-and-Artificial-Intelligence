{
 "cells": [
  {
   "cell_type": "markdown",
   "id": "542c6e3d",
   "metadata": {},
   "source": [
    "# ABAJUE BENEDICT CHIDI's MACHINE LEARNING NOTEBOOK\n",
    "### Date: 1st April 2024\n",
    "### Time: 10:50 PM"
   ]
  },
  {
   "cell_type": "code",
   "execution_count": null,
   "id": "15b08cc5",
   "metadata": {},
   "outputs": [],
   "source": [
    "def encode(x, positive, negative):\n",
    "    if x == positive:\n",
    "        return 1\n",
    "    else:\n",
    "        return 0"
   ]
  },
  {
   "cell_type": "code",
   "execution_count": null,
   "id": "1182a26e",
   "metadata": {},
   "outputs": [],
   "source": [
    "import pandas as pd\n",
    "import numpy as np\n",
    "from pandas.plotting import scatter_matrix\n",
    "import matplotlib.pyplot as plt"
   ]
  },
  {
   "cell_type": "code",
   "execution_count": null,
   "id": "b78d813b",
   "metadata": {},
   "outputs": [],
   "source": [
    "irisdf = pd.read_csv(r'C:\\Users\\USER\\Desktop\\BENEDICTJUNIOR\\PYTHON\\Data Analysis\\Machine Learning\\dataset\\iris.csv')"
   ]
  },
  {
   "cell_type": "code",
   "execution_count": null,
   "id": "c51c3034",
   "metadata": {},
   "outputs": [],
   "source": [
    "irisdf"
   ]
  },
  {
   "cell_type": "code",
   "execution_count": null,
   "id": "3f3a9c34",
   "metadata": {},
   "outputs": [],
   "source": [
    "irisdf.plot(kind='box', subplots = True, layout = (2,3), sharex = False, sharey = False)\n",
    "plt.show()"
   ]
  },
  {
   "cell_type": "code",
   "execution_count": null,
   "id": "d5d01aad",
   "metadata": {},
   "outputs": [],
   "source": [
    "irisdf.hist()\n",
    "plt.show()"
   ]
  },
  {
   "cell_type": "code",
   "execution_count": null,
   "id": "d19ac82e",
   "metadata": {},
   "outputs": [],
   "source": [
    "scatter_matrix(irisdf)\n",
    "plt.show()"
   ]
  },
  {
   "cell_type": "code",
   "execution_count": null,
   "id": "1cb481af",
   "metadata": {},
   "outputs": [],
   "source": [
    "#del irisdf[\"class\"]"
   ]
  },
  {
   "cell_type": "code",
   "execution_count": null,
   "id": "ce950ef3",
   "metadata": {},
   "outputs": [],
   "source": [
    "array = irisdf.values\n",
    "X = array[:,0:4]\n",
    "Y = array[:,4]"
   ]
  },
  {
   "cell_type": "markdown",
   "id": "3ce92e43",
   "metadata": {},
   "source": [
    "# \n",
    "# \n",
    "# "
   ]
  },
  {
   "cell_type": "markdown",
   "id": "5a5bc86c",
   "metadata": {},
   "source": [
    "# LINEAR REGRESSION"
   ]
  },
  {
   "cell_type": "markdown",
   "id": "9a01e660",
   "metadata": {},
   "source": [
    "### Using Formulas and No library"
   ]
  },
  {
   "cell_type": "code",
   "execution_count": null,
   "id": "f13b69cb",
   "metadata": {},
   "outputs": [],
   "source": [
    "irisdf.shape"
   ]
  },
  {
   "cell_type": "code",
   "execution_count": null,
   "id": "c1128245",
   "metadata": {},
   "outputs": [],
   "source": [
    "X_iris = irisdf['petal-length']\n",
    "Y_iris = irisdf['petal-width']"
   ]
  },
  {
   "cell_type": "code",
   "execution_count": null,
   "id": "20c106f4",
   "metadata": {},
   "outputs": [],
   "source": [
    "mean_x = np.mean(X_iris)\n",
    "mean_y = np.mean(Y_iris)\n",
    "numer = 0\n",
    "denom = 0\n",
    "for i in range(len(X_iris)):\n",
    "    numer += (X_iris[i]-mean_x) * (Y[i] - mean_y)\n",
    "    denom += (X_iris[i]-mean_x) ** 2\n",
    "b1 = numer / denom\n",
    "b0 = mean_y - (b1 * mean_x)\n",
    "b1, b0"
   ]
  },
  {
   "cell_type": "code",
   "execution_count": null,
   "id": "a0341565",
   "metadata": {},
   "outputs": [],
   "source": [
    "max_x = np.max(X_iris)\n",
    "min_x = np.min(X_iris)\n",
    "\n",
    "x = np.linspace(min_x, max_x, 1000)\n",
    "y = b0 + b1*x\n",
    "plt.plot(x, y, label ='Regression Line')\n",
    "plt.scatter(X_iris, Y_iris, color ='red', label='Scatter Plot')\n",
    "plt.legend()\n",
    "#plt.scatter(x, y, label ='Scatter Plot')\n",
    "\n",
    "plt.show()"
   ]
  },
  {
   "cell_type": "code",
   "execution_count": null,
   "id": "1b0235f0",
   "metadata": {},
   "outputs": [],
   "source": [
    "ss_t, ss_r = 0, 0\n",
    "for i in range(len(X_iris)):\n",
    "    y_pred = b0 + b1*X_iris[i]\n",
    "    ss_t += (Y_iris[i] - mean_y)**2\n",
    "    ss_r += (Y_iris[i] - y_pred)**2\n",
    "r2 = 1 - (ss_r/ss_t)\n",
    "print(r2)"
   ]
  },
  {
   "cell_type": "markdown",
   "id": "2923d0a1",
   "metadata": {},
   "source": [
    "### Using Sklearn Library"
   ]
  },
  {
   "cell_type": "code",
   "execution_count": null,
   "id": "fc2bb2cc",
   "metadata": {},
   "outputs": [],
   "source": [
    "from sklearn.linear_model import LinearRegression\n",
    "from sklearn.metrics import mean_squared_error"
   ]
  },
  {
   "cell_type": "code",
   "execution_count": null,
   "id": "a252d928",
   "metadata": {},
   "outputs": [],
   "source": [
    "X_iris.shape"
   ]
  },
  {
   "cell_type": "code",
   "execution_count": null,
   "id": "56b4e645",
   "metadata": {},
   "outputs": [],
   "source": [
    "# You cannot use rank 1 matrix in sklearn\n",
    "X_shaped = np.array(X_iris).reshape((len(np.array(X_iris)), 1))\n",
    "reg = LinearRegression().fit(X_shaped, Y)\n",
    "Y_pred = reg.predict(X_shaped)\n",
    "reg.score(X_shaped, Y)"
   ]
  },
  {
   "cell_type": "markdown",
   "id": "d8fa93f6",
   "metadata": {},
   "source": [
    "# \n",
    "# \n",
    "# "
   ]
  },
  {
   "cell_type": "markdown",
   "id": "59504718",
   "metadata": {},
   "source": [
    "# INFORMATION GAIN AND ENTROPY"
   ]
  },
  {
   "cell_type": "code",
   "execution_count": null,
   "id": "23f5fa6a",
   "metadata": {},
   "outputs": [],
   "source": [
    "import math"
   ]
  },
  {
   "cell_type": "code",
   "execution_count": null,
   "id": "0733e0fc",
   "metadata": {},
   "outputs": [],
   "source": [
    "airline = pd.read_csv(r'./dataset/airline_passenger_satisfaction.csv')"
   ]
  },
  {
   "cell_type": "code",
   "execution_count": null,
   "id": "1f3f0537",
   "metadata": {},
   "outputs": [],
   "source": [
    "airline[:3]"
   ]
  },
  {
   "cell_type": "code",
   "execution_count": null,
   "id": "4181c9de",
   "metadata": {},
   "outputs": [],
   "source": [
    "airline['Satisfaction'].value_counts()"
   ]
  },
  {
   "cell_type": "code",
   "execution_count": null,
   "id": "5ee83861",
   "metadata": {},
   "outputs": [],
   "source": [
    "# Entropy H(S) 56428 Satisfied and 73452 Unsatisfied - 129880 Total\n",
    "entropy = ( (-56428 / 129880 )*math.log2(56428 / 129880 ) ) - ( (73452 / 129880 )*math.log2(73452 / 129880 ) )\n",
    "entropy"
   ]
  },
  {
   "cell_type": "code",
   "execution_count": null,
   "id": "bf1dab7f",
   "metadata": {},
   "outputs": [],
   "source": [
    "airline.groupby('Gender')['Satisfaction'].value_counts()"
   ]
  },
  {
   "cell_type": "code",
   "execution_count": null,
   "id": "8b1f59bb",
   "metadata": {},
   "outputs": [],
   "source": [
    "# Gender Information Gain 65899 Female and 63981 male -  total 129880\n",
    "genderIG = entropy - ( (65899/129880)*((-28269/65899)*(math.log2(28269/65899)) + (37630/65899)*(math.log2(37630/65899)))     +     (63981/129880)*((-28159/63981)*(math.log2(28159/63981)) + (35822/63981)*(math.log2(35822/63981))) )\n",
    "genderIG"
   ]
  },
  {
   "cell_type": "code",
   "execution_count": null,
   "id": "c63c6dda",
   "metadata": {},
   "outputs": [],
   "source": [
    "airline.groupby('Customer Type')['Satisfaction'].value_counts()"
   ]
  },
  {
   "cell_type": "code",
   "execution_count": null,
   "id": "92c7e1bb",
   "metadata": {},
   "outputs": [],
   "source": [
    "# Customer Type Information Gain  First-Time 23780 and 106100 Returning -  total 129880\n",
    "CustIG = entropy - ( (23780/129880)*((-5700/23780)*(math.log2(5700/23780)) + (18080/23780)*(math.log2(18080/23780)))     +     (106100/129880)*((-50728/106100)*(math.log2(50728/106100)) + (55372/106100)*(math.log2(55372/106100))) )\n",
    "CustIG"
   ]
  },
  {
   "cell_type": "code",
   "execution_count": null,
   "id": "2a449a76",
   "metadata": {},
   "outputs": [],
   "source": [
    "airline.groupby('Class')['Satisfaction'].value_counts()"
   ]
  },
  {
   "cell_type": "code",
   "execution_count": null,
   "id": "9d046471",
   "metadata": {},
   "outputs": [],
   "source": [
    "# Class Information Gain  Business 62160,                                                                                                      Economy 58309 and Economy Plus 9411 -  total 129880\n",
    "ClassIG = entropy - ( (62160/129880)*((-43166/62160)*(math.log2(43166/62160)) + (18994/62160)*(math.log2(18994/62160)))     +     (58309/129880)*((-10943/58309)*(math.log2(10943/58309)) + (47366/58309)*(math.log2(47366/58309)))     +     (9411/129880)*((-2319/9411)*(math.log2(2319/9411)) + (7092/9411)*(math.log2(7092/9411))) )\n",
    "ClassIG"
   ]
  },
  {
   "cell_type": "code",
   "execution_count": null,
   "id": "9ccb5fb4",
   "metadata": {},
   "outputs": [],
   "source": [
    "airline.groupby('Type of Travel')['Satisfaction'].value_counts()"
   ]
  },
  {
   "cell_type": "code",
   "execution_count": null,
   "id": "2024d709",
   "metadata": {},
   "outputs": [],
   "source": [
    "# Travel Type Information Gain 89693 Business and 40187 Personal -  total 129880\n",
    "TypeIG = entropy - ( (89693/129880)*((-52356/89693)*(math.log2(52356/89693)) + (37337/89693)*(math.log2(37337/89693)))     +     (40187/129880)*((-4072/40187)*(math.log2(4072/40187)) + (36115/40187)*(math.log2(36115/40187))) )\n",
    "TypeIG"
   ]
  },
  {
   "cell_type": "code",
   "execution_count": null,
   "id": "dd937c4d",
   "metadata": {},
   "outputs": [],
   "source": [
    "x = airline[(airline[\"Type of Travel\"] == 'Business')]\n",
    "y = x[x[\"Class\"] == 'Business']\n",
    "z = y[y[\"Customer Type\"] == 'Returning']\n",
    "a = z[z[\"Gender\"] == 'Male']\n",
    "a[a[\"Satisfaction\"] == \"Neutral or Dissatisfied\"].describe()"
   ]
  },
  {
   "cell_type": "markdown",
   "id": "0395c055",
   "metadata": {},
   "source": [
    "## The type of Travel: Business or Personal, plays the biggest role on whether the customer is going to be satisfied or not since it has the highest information gain of 0.977\n",
    "## Arranged according to the effect they have on customers satisfaction from biggest to lowest:\n",
    "####\n",
    "### - Type of Travel : Business or Personal\n",
    "### - Class of Travel : Business, Economy or Economy Plus\n",
    "### - Customer Type : First-Time or Returning\n",
    "### - Gender : Male or Female"
   ]
  },
  {
   "cell_type": "markdown",
   "id": "9bc1cc77",
   "metadata": {},
   "source": [
    "# \n",
    "# \n",
    "# "
   ]
  },
  {
   "cell_type": "markdown",
   "id": "1aa140b9",
   "metadata": {},
   "source": [
    "# LOGISTIC REGRESSION"
   ]
  },
  {
   "cell_type": "code",
   "execution_count": null,
   "id": "879dbc8f",
   "metadata": {},
   "outputs": [],
   "source": [
    "import seaborn as sns"
   ]
  },
  {
   "cell_type": "code",
   "execution_count": null,
   "id": "403350f3",
   "metadata": {},
   "outputs": [],
   "source": [
    "airline"
   ]
  },
  {
   "cell_type": "code",
   "execution_count": null,
   "id": "9d608f16",
   "metadata": {},
   "outputs": [],
   "source": [
    "#### Analyze Data"
   ]
  },
  {
   "cell_type": "code",
   "execution_count": null,
   "id": "8f3259e8",
   "metadata": {},
   "outputs": [],
   "source": [
    "sns.countplot(x=\"Satisfaction\", data=airline)\n",
    "plt.show()"
   ]
  },
  {
   "cell_type": "code",
   "execution_count": null,
   "id": "98983b19",
   "metadata": {},
   "outputs": [],
   "source": [
    "sns.countplot(x=\"Satisfaction\", hue=\"Gender\", data=airline)\n",
    "plt.show()"
   ]
  },
  {
   "cell_type": "code",
   "execution_count": null,
   "id": "548772c5",
   "metadata": {},
   "outputs": [],
   "source": [
    "airline['Age'].plot.hist()\n",
    "plt.show()"
   ]
  },
  {
   "cell_type": "code",
   "execution_count": null,
   "id": "cc5c7c2e",
   "metadata": {},
   "outputs": [],
   "source": [
    "sns.boxplot(x='Class', y=\"Age\", data=airline)\n",
    "plt.show()"
   ]
  },
  {
   "cell_type": "markdown",
   "id": "4a9a6f70",
   "metadata": {},
   "source": [
    "### Data Wrangling, Clenup and Strings Eradication"
   ]
  },
  {
   "cell_type": "code",
   "execution_count": null,
   "id": "78a0aad6",
   "metadata": {},
   "outputs": [],
   "source": [
    "airline.head(5)"
   ]
  },
  {
   "cell_type": "code",
   "execution_count": null,
   "id": "f072ced7",
   "metadata": {},
   "outputs": [],
   "source": [
    "airline.drop(['ID','Departure and Arrival Time Convenience', 'Ease of Online Booking',\n",
    "       'Check-in Service', 'Online Boarding', 'Gate Location',\n",
    "       'On-board Service', 'Seat Comfort', 'Leg Room Service', 'Cleanliness',\n",
    "       'Food and Drink', 'In-flight Service', 'In-flight Wifi Service',\n",
    "       'In-flight Entertainment', 'Baggage Handling'], axis=1, inplace=True)"
   ]
  },
  {
   "cell_type": "code",
   "execution_count": null,
   "id": "33551462",
   "metadata": {},
   "outputs": [],
   "source": [
    "airline.isnull().sum()"
   ]
  },
  {
   "cell_type": "code",
   "execution_count": null,
   "id": "b5095b11",
   "metadata": {},
   "outputs": [],
   "source": [
    "airline.fillna(0, inplace=True)"
   ]
  },
  {
   "cell_type": "code",
   "execution_count": null,
   "id": "54c26e74",
   "metadata": {},
   "outputs": [],
   "source": [
    "sns.heatmap(airline.isnull())\n",
    "plt.show()"
   ]
  },
  {
   "cell_type": "code",
   "execution_count": null,
   "id": "4e325663",
   "metadata": {},
   "outputs": [],
   "source": [
    "airline.head(2)"
   ]
  },
  {
   "cell_type": "code",
   "execution_count": null,
   "id": "231dbf92",
   "metadata": {},
   "outputs": [],
   "source": [
    "gender = pd.get_dummies(airline['Gender'], drop_first=True)\n",
    "custype = pd.get_dummies(airline['Customer Type'], drop_first=True)\n",
    "travtype = pd.get_dummies(airline['Type of Travel'], drop_first=True)\n",
    "travclass = pd.get_dummies(airline['Class'], drop_first=True)\n",
    "satisfy = pd.get_dummies(airline['Satisfaction'], drop_first=True)"
   ]
  },
  {
   "cell_type": "code",
   "execution_count": null,
   "id": "86a81561",
   "metadata": {},
   "outputs": [],
   "source": [
    "airline = pd.concat([airline, gender, custype,travtype,travclass,satisfy], axis =1)"
   ]
  },
  {
   "cell_type": "code",
   "execution_count": null,
   "id": "64becc1e",
   "metadata": {},
   "outputs": [],
   "source": [
    "airline.head(3)"
   ]
  },
  {
   "cell_type": "code",
   "execution_count": null,
   "id": "f5ce91dc",
   "metadata": {},
   "outputs": [],
   "source": [
    "airline.drop(['Gender', 'Age', 'Customer Type', 'Type of Travel', 'Class',\n",
    "       'Flight Distance', 'Departure Delay', 'Arrival Delay', 'Satisfaction'], axis=1, inplace=True)"
   ]
  },
  {
   "cell_type": "code",
   "execution_count": null,
   "id": "0a2c5491",
   "metadata": {
    "scrolled": true
   },
   "outputs": [],
   "source": [
    "airline.head()"
   ]
  },
  {
   "cell_type": "markdown",
   "id": "b4422b6b",
   "metadata": {},
   "source": [
    "## Train Data"
   ]
  },
  {
   "cell_type": "code",
   "execution_count": null,
   "id": "fbdafa07",
   "metadata": {},
   "outputs": [],
   "source": [
    "X_air = airline.drop('Satisfied', axis =1)\n",
    "y_air = airline[\"Satisfied\"]"
   ]
  },
  {
   "cell_type": "code",
   "execution_count": null,
   "id": "feae3865",
   "metadata": {},
   "outputs": [],
   "source": [
    "from sklearn import model_selection"
   ]
  },
  {
   "cell_type": "code",
   "execution_count": null,
   "id": "dae3f6f9",
   "metadata": {},
   "outputs": [],
   "source": [
    "X_air_train, X_air_test, y_air_train, y_air_test = model_selection.train_test_split(X_air, y_air, test_size=0.3, random_state=1)"
   ]
  },
  {
   "cell_type": "code",
   "execution_count": null,
   "id": "1d615d25",
   "metadata": {},
   "outputs": [],
   "source": [
    "from sklearn.linear_model import LogisticRegression"
   ]
  },
  {
   "cell_type": "code",
   "execution_count": null,
   "id": "a6086126",
   "metadata": {},
   "outputs": [],
   "source": [
    "logmodel = LogisticRegression().fit(X_air_train, y_air_train)"
   ]
  },
  {
   "cell_type": "code",
   "execution_count": null,
   "id": "114c71ee",
   "metadata": {},
   "outputs": [],
   "source": [
    "y_air_pred = logmodel.predict(X_air_test)"
   ]
  },
  {
   "cell_type": "code",
   "execution_count": null,
   "id": "e063e9e2",
   "metadata": {},
   "outputs": [],
   "source": [
    "from sklearn.metrics import classification_report"
   ]
  },
  {
   "cell_type": "code",
   "execution_count": null,
   "id": "7fb99936",
   "metadata": {},
   "outputs": [],
   "source": [
    "classification_report(y_air_test, y_air_pred)"
   ]
  },
  {
   "cell_type": "code",
   "execution_count": null,
   "id": "ae0d53f6",
   "metadata": {},
   "outputs": [],
   "source": [
    "from sklearn.metrics import confusion_matrix"
   ]
  },
  {
   "cell_type": "code",
   "execution_count": null,
   "id": "26d5f099",
   "metadata": {},
   "outputs": [],
   "source": [
    "confusion_matrix(y_air_test, y_air_pred)"
   ]
  },
  {
   "cell_type": "code",
   "execution_count": null,
   "id": "685b96f2",
   "metadata": {},
   "outputs": [],
   "source": [
    "from sklearn.metrics import accuracy_score"
   ]
  },
  {
   "cell_type": "code",
   "execution_count": null,
   "id": "2ad21743",
   "metadata": {},
   "outputs": [],
   "source": [
    "accuracy_score(y_air_test, y_air_pred)"
   ]
  },
  {
   "cell_type": "markdown",
   "id": "769fcd51",
   "metadata": {},
   "source": [
    "## LOGISTIC REGRESSION ON Makana Household Data"
   ]
  },
  {
   "cell_type": "code",
   "execution_count": null,
   "id": "f87a091f",
   "metadata": {},
   "outputs": [],
   "source": [
    "household = pd.read_csv(r'./dataset/Makana Island Household Dataset.csv')"
   ]
  },
  {
   "cell_type": "code",
   "execution_count": null,
   "id": "34e9d3f2",
   "metadata": {},
   "outputs": [],
   "source": [
    "household.columns"
   ]
  },
  {
   "cell_type": "code",
   "execution_count": null,
   "id": "e6a1567b",
   "metadata": {},
   "outputs": [],
   "source": [
    "household.drop(['Unnamed: 0', 'District', 'Country','Occupation',\n",
    "       'Economic Status',\n",
    "       'Annual Income (in USD)', 'Marital Status', 'Number of Children',\n",
    "       'Number of Dependents', 'Luxury Items Owned',\n",
    "       'Level of Education'], axis=1, inplace = True)"
   ]
  },
  {
   "cell_type": "code",
   "execution_count": null,
   "id": "8f9e84a0",
   "metadata": {},
   "outputs": [],
   "source": [
    "household.head(0)"
   ]
  },
  {
   "cell_type": "code",
   "execution_count": null,
   "id": "2d22dc21",
   "metadata": {},
   "outputs": [],
   "source": [
    "household.columns"
   ]
  },
  {
   "cell_type": "code",
   "execution_count": null,
   "id": "a011f0ef",
   "metadata": {},
   "outputs": [],
   "source": [
    "districtUrban = household['Is District Urban']\n",
    "household.drop(['Is District Urban'], axis = 1, inplace = True)\n",
    "household['Is District Urban'] = districtUrban"
   ]
  },
  {
   "cell_type": "code",
   "execution_count": null,
   "id": "7b856f6e",
   "metadata": {},
   "outputs": [],
   "source": [
    "household.head(3)"
   ]
  },
  {
   "cell_type": "code",
   "execution_count": null,
   "id": "3f32b619",
   "metadata": {},
   "outputs": [],
   "source": [
    "### Encoding is done using the encode() function at the top of the notebook\n",
    "for i in list(household.columns[1:]):\n",
    "    household[i] = [encode(x, \"Yes\", \"No\") for x in household[i]]"
   ]
  },
  {
   "cell_type": "code",
   "execution_count": null,
   "id": "6e0b24ba",
   "metadata": {},
   "outputs": [],
   "source": [
    "household.head(3)"
   ]
  },
  {
   "cell_type": "code",
   "execution_count": null,
   "id": "ba5350dc",
   "metadata": {},
   "outputs": [],
   "source": [
    "X_house = household.iloc[:, range(6)].values\n",
    "y_house = household.iloc[:,6].values"
   ]
  },
  {
   "cell_type": "code",
   "execution_count": null,
   "id": "d0e9f32f",
   "metadata": {},
   "outputs": [],
   "source": [
    "X_house_train, X_house_test, y_house_train, y_house_test = model_selection.train_test_split(X_house, y_house, test_size=0.25, random_state=2)"
   ]
  },
  {
   "cell_type": "code",
   "execution_count": null,
   "id": "9f25bdf4",
   "metadata": {},
   "outputs": [],
   "source": [
    "from sklearn.preprocessing import StandardScaler"
   ]
  },
  {
   "cell_type": "markdown",
   "id": "bdb7ba45",
   "metadata": {},
   "source": [
    "sc = StandardScaler()\n",
    "X_house_train, X_house_test = sc.fit_transform(X_house_train), sc.fit_transform(X_house_test)"
   ]
  },
  {
   "cell_type": "code",
   "execution_count": null,
   "id": "2c87424e",
   "metadata": {},
   "outputs": [],
   "source": [
    "logModel2 = LogisticRegression(random_state=2).fit(X_house_train, y_house_train)"
   ]
  },
  {
   "cell_type": "code",
   "execution_count": null,
   "id": "6941aa8d",
   "metadata": {},
   "outputs": [],
   "source": [
    "y_house_pred = logModel2.predict(X_house_test)"
   ]
  },
  {
   "cell_type": "code",
   "execution_count": null,
   "id": "f3783293",
   "metadata": {},
   "outputs": [],
   "source": [
    "accuracy_score(y_house_test, y_house_pred)"
   ]
  },
  {
   "cell_type": "code",
   "execution_count": null,
   "id": "2553c198",
   "metadata": {},
   "outputs": [],
   "source": [
    "\n",
    "logModel2.predict([[30, 0, 0, 0, 0, 0]])"
   ]
  },
  {
   "cell_type": "markdown",
   "id": "09023c5d",
   "metadata": {},
   "source": [
    "# KNN ALGORITHM"
   ]
  },
  {
   "cell_type": "code",
   "execution_count": null,
   "id": "7b189c51",
   "metadata": {},
   "outputs": [],
   "source": [
    "import csv\n",
    "import random"
   ]
  },
  {
   "cell_type": "code",
   "execution_count": null,
   "id": "01775433",
   "metadata": {},
   "outputs": [],
   "source": [
    "training=[]\n",
    "testing=[]\n",
    "def loadDataset(filename, split, trainingSet=[], testSet=[]):\n",
    "    with open(filename, 'r') as csvfile:\n",
    "        lines = csv.reader(csvfile)\n",
    "        dataset = list(lines)\n",
    "        for x in range(len(dataset) - 1):\n",
    "            for y in range(4):\n",
    "                dataset[x][y] = float(dataset[x][y])\n",
    "            if random.random() < split:\n",
    "                trainingSet.append(dataset[x])\n",
    "            else:\n",
    "                testSet.append(dataset[x])\n",
    "    \n",
    "    # Remove the first column which contains indexes\n",
    "    for i in trainingSet:\n",
    "        del i[0]\n",
    "        del i[-1]\n",
    "    for i in testSet:\n",
    "        del i[0]\n",
    "    del i[-1]    \n",
    "    print('Train: ', len(trainingSet))\n",
    "    print('Test: ', len(testSet))\n",
    "loadDataset(r'./dataset/iris2.csv', 0.70, training, testing)\n",
    "        "
   ]
  },
  {
   "cell_type": "code",
   "execution_count": null,
   "id": "543c5937",
   "metadata": {},
   "outputs": [],
   "source": [
    "def loadDataset(filename, split, trainingSet=[], testSet=[]):\n",
    "    with open(filename, 'r') as csvfile:\n",
    "        lines = csv.reader(csvfile)\n",
    "        dataset = list(lines)\n",
    "        for x in range(len(dataset) - 1):\n",
    "            for y in range(4):\n",
    "                dataset[x][y] = float(dataset[x][y])\n",
    "            if random.random() < split:\n",
    "                trainingSet.append(dataset[x])\n",
    "            else:\n",
    "                testSet.append(dataset[x])"
   ]
  },
  {
   "cell_type": "code",
   "execution_count": null,
   "id": "07ff3a64",
   "metadata": {},
   "outputs": [],
   "source": [
    "trainingSet=[]\n",
    "testSet=[]\n",
    "loadDataset(r'./dataset/iris2.csv', 0.70, trainingSet, testSet)\n",
    "print('Train: ', len(trainingSet))\n",
    "print('Test: ', len(testSet))"
   ]
  },
  {
   "cell_type": "code",
   "execution_count": null,
   "id": "f1fc8acb",
   "metadata": {},
   "outputs": [],
   "source": [
    "# Remove the first column which contains indexes\n",
    "for i in trainingSet:\n",
    "    del i[0]\n",
    "    del i[-2]\n",
    "for i in testSet:\n",
    "    del i[0]\n",
    "    del i[-2]"
   ]
  },
  {
   "cell_type": "code",
   "execution_count": null,
   "id": "d3ff8e74",
   "metadata": {},
   "outputs": [],
   "source": [
    "# Euclidean Distance\n",
    "def euclideanDistance(instance1, instance2, length):\n",
    "    distance = 0\n",
    "    for x in range(length):\n",
    "        distance+= pow((instance1[x] - instance2[x]), 2)\n",
    "    return math.sqrt(distance)"
   ]
  },
  {
   "cell_type": "code",
   "execution_count": null,
   "id": "b314c240",
   "metadata": {},
   "outputs": [],
   "source": [
    "data1 = [2,2,2,'a']\n",
    "data2 = [4,4,4,'b']\n",
    "print('Distance: ', euclideanDistance(data1, data2, 3))"
   ]
  },
  {
   "cell_type": "code",
   "execution_count": null,
   "id": "5edff57c",
   "metadata": {},
   "outputs": [],
   "source": [
    "import operator\n",
    "def getNeighbors(trainingSet, testInstance, k):\n",
    "    distances =[]\n",
    "    length = len(testInstance) -1\n",
    "    for x in range(len(trainingSet)):\n",
    "        dist = euclideanDistance(testInstance, trainingSet[x], length)\n",
    "        distances.append((trainingSet[x], dist))\n",
    "    distances.sort(key = operator.itemgetter(1))\n",
    "    neighbors = []\n",
    "    for x in range(k):\n",
    "        neighbors.append(distances[x][0])\n",
    "    return neighbors"
   ]
  },
  {
   "cell_type": "code",
   "execution_count": null,
   "id": "d6dd86e5",
   "metadata": {},
   "outputs": [],
   "source": [
    "for i in trainingSet:\n",
    "    i[-2] = float(i[-2])"
   ]
  },
  {
   "cell_type": "code",
   "execution_count": null,
   "id": "cd1242cb",
   "metadata": {},
   "outputs": [],
   "source": [
    "trainingSet[:5]"
   ]
  },
  {
   "cell_type": "code",
   "execution_count": null,
   "id": "b3943405",
   "metadata": {},
   "outputs": [],
   "source": [
    "trainSet =[data1, data2]\n",
    "testInstance = [9.1,0.5,5.4,4.2]\n",
    "k=5\n",
    "neighbors = getNeighbors(trainingSet, testInstance, k)\n",
    "print(neighbors)"
   ]
  },
  {
   "cell_type": "code",
   "execution_count": null,
   "id": "a501a4cf",
   "metadata": {},
   "outputs": [],
   "source": [
    "def getResponse(neighbors):\n",
    "    classVotes = {}\n",
    "    for x in range(len(neighbors)):\n",
    "        response = neighbors[x][-1]\n",
    "        if response in classVotes:\n",
    "            classVotes[response] += 1\n",
    "        else:\n",
    "            classVotes[response] = 1\n",
    "    sortedVotes = sorted(classVotes.items() , key=operator.itemgetter(1), reverse = True)\n",
    "    return sortedVotes[0][0]"
   ]
  },
  {
   "cell_type": "code",
   "execution_count": null,
   "id": "abdf5bd3",
   "metadata": {},
   "outputs": [],
   "source": [
    "testInstance = [4.1,0.5,5.4,4.2]\n",
    "neighbors = getNeighbors(trainingSet, testInstance, 9)\n",
    "getResponse(neighbors)"
   ]
  },
  {
   "cell_type": "code",
   "execution_count": null,
   "id": "0740019f",
   "metadata": {},
   "outputs": [],
   "source": [
    "def getAccuracy(testSet, predictions):\n",
    "    correct = 0\n",
    "    for x in range(len(testSet)):\n",
    "        if testSet[x][-1] == predictions[x]:\n",
    "            correct+=1\n",
    "    return (correct/float(len(testSet)))"
   ]
  },
  {
   "cell_type": "code",
   "execution_count": null,
   "id": "d22fbf52",
   "metadata": {},
   "outputs": [],
   "source": [
    "testInstance = []\n",
    "predictionSet = []\n",
    "for i in testSet:\n",
    "    testInstance.append(i[:-1])\n",
    "for i in testInstance:\n",
    "    neighbors = getNeighbors(trainingSet, i, 9)\n",
    "    predictionSet.append(getResponse(neighbors))\n",
    "#predictionSet"
   ]
  },
  {
   "cell_type": "code",
   "execution_count": null,
   "id": "cf0723b8",
   "metadata": {},
   "outputs": [],
   "source": [
    "getAccuracy(testSet, predictionSet)"
   ]
  },
  {
   "cell_type": "markdown",
   "id": "d35ea211",
   "metadata": {},
   "source": [
    "# Naive Bayes Algorithm"
   ]
  },
  {
   "cell_type": "code",
   "execution_count": null,
   "id": "8d268f8f",
   "metadata": {},
   "outputs": [],
   "source": [
    "def loadCsv(filename):\n",
    "    lines = csv.reader(open(filename))\n",
    "    dataset = list(lines)\n",
    "    for i in range(len(dataset)):\n",
    "        dataset[i] = [float(x) for x in dataset[i]]\n",
    "    return dataset"
   ]
  },
  {
   "cell_type": "code",
   "execution_count": null,
   "id": "96a66fb5",
   "metadata": {},
   "outputs": [],
   "source": [
    " def splitDataset(dataset, splitRatio):\n",
    "        trainSize = int(len(dataset)*splitRatio)\n",
    "        trainSet = []\n",
    "        copy = list(dataset)\n",
    "        while len(trainSet) < trainSize:\n",
    "            index = random.randrange(len(copy))\n",
    "            trainSet.append(copy.pop(index))\n",
    "        return [trainSet, copy]"
   ]
  },
  {
   "cell_type": "code",
   "execution_count": null,
   "id": "5b3dc867",
   "metadata": {},
   "outputs": [],
   "source": [
    "def separateByClass(dataset):\n",
    "    separated={}\n",
    "    for i in range(len(dataset)):\n",
    "        vector = dataset[i]\n",
    "        if vector[-1] not in separated:\n",
    "            separated[vector[-1]] = []\n",
    "        separated[vector[-1]].append(vector)\n",
    "    return separated"
   ]
  },
  {
   "cell_type": "code",
   "execution_count": null,
   "id": "39061cf5",
   "metadata": {},
   "outputs": [],
   "source": [
    "def mean(numbers):\n",
    "    return sum(numbers)/float(len(numbers))"
   ]
  },
  {
   "cell_type": "code",
   "execution_count": null,
   "id": "bff8bd65",
   "metadata": {},
   "outputs": [],
   "source": [
    "def stdev(numbers):\n",
    "    avg = mean(numbers)\n",
    "    variance = sum([pow(x - avg, 2) for x in numbers]) /float(len(numbers) - 1)\n",
    "    return math.sqrt(variance)"
   ]
  },
  {
   "cell_type": "code",
   "execution_count": null,
   "id": "27c3e5d5",
   "metadata": {},
   "outputs": [],
   "source": [
    "def summarize(dataset):\n",
    "    summaries = [(mean(attribute), stdev(attribute)) for attribute in zip(*dataset)]\n",
    "    del summaries[-1]\n",
    "    return summaries"
   ]
  },
  {
   "cell_type": "code",
   "execution_count": null,
   "id": "62dc1b06",
   "metadata": {},
   "outputs": [],
   "source": [
    "def summarizeByClass(dataset):\n",
    "    separated = separateByClass(dataset)\n",
    "    summaries = {}\n",
    "    for classValue, instances in separated.items():\n",
    "        summaries[classValue] = summarize(instances)\n",
    "    return summaries"
   ]
  },
  {
   "cell_type": "code",
   "execution_count": null,
   "id": "8a269e54",
   "metadata": {},
   "outputs": [],
   "source": [
    "def calculateProbability(x, mean, stdev):\n",
    "    exponent = math.exp(-(math.pow(x-mean, 2)/(2*math.pow(stdev,2))))\n",
    "    return (1/(math.sqrt(2*math.pi)*stdev)) * exponent"
   ]
  },
  {
   "cell_type": "code",
   "execution_count": null,
   "id": "bad822f1",
   "metadata": {},
   "outputs": [],
   "source": [
    "def calculateClassProbabilities(summaries, inputVector):\n",
    "    probabilities = {}\n",
    "    for classValue, classSummaries in summaries.items():\n",
    "        probabilities[classValue] = 1\n",
    "        for i in range(len(classSummaries)):\n",
    "            mean, stdev = classSummaries[i]\n",
    "            x = inputVector[i]\n",
    "            probabilities[classValue] *= calculateProbability(x, mean, stdev)\n",
    "    return probabilities"
   ]
  },
  {
   "cell_type": "code",
   "execution_count": null,
   "id": "f05a312b",
   "metadata": {},
   "outputs": [],
   "source": [
    "def predict(summaries, inputVector):\n",
    "    probabilities = calculateClassProbabilities(summaries, inputVector)\n",
    "    bestLabel, bestProb = None, -1\n",
    "    for classValue, probability in probabilities.items():\n",
    "        if bestLabel is None or probability > bestProb:\n",
    "            bestProb = probability\n",
    "            bestLabel = classValue\n",
    "    return bestLabel"
   ]
  },
  {
   "cell_type": "code",
   "execution_count": null,
   "id": "e7f1c49e",
   "metadata": {},
   "outputs": [],
   "source": [
    "def getPredictions(summaries, testSet):\n",
    "    predictions=[]\n",
    "    for i in range(len(testSet)):\n",
    "        result = predict(summaries, testSet[i])\n",
    "        predictions.append(result)\n",
    "    return predictions"
   ]
  },
  {
   "cell_type": "code",
   "execution_count": null,
   "id": "7ce7bf34",
   "metadata": {},
   "outputs": [],
   "source": [
    "def getAccuracy(testSet, predictions):\n",
    "    correct = 0\n",
    "    for x in range(len(testSet)):\n",
    "        if testSet[x][-1] == predictions[x]:\n",
    "            correct += 1\n",
    "    return (correct/float(len(testSet))) * 100.0"
   ]
  },
  {
   "cell_type": "markdown",
   "id": "95336341",
   "metadata": {},
   "source": [
    "##### household_value_regression contains the following columns accordingly and tries to predict the Parent Literate column\n",
    "##### ['Pays Tax', 'Is District Urban', 'Owns A Business', 'Owns a Car', 'Subscribed to Island's Health Insurance Scheme', 'Parents Literate?']\n",
    "##### the file should contain only numerical values and no titles for the columns"
   ]
  },
  {
   "cell_type": "code",
   "execution_count": 116,
   "id": "b78d048f",
   "metadata": {},
   "outputs": [],
   "source": [
    "def main(filename = r'./dataset/household_value_regression.csv', splitRatio = 0.60):\n",
    "    dataset = loadCsv(filename)\n",
    "    trainingSet, testSet = splitDataset(dataset, splitRatio)\n",
    "    print('{0} rows split into {1} rows for Train and {2} rows for test'.format(len(dataset), len(trainingSet), len(testSet)))\n",
    "    # Prepare Model\n",
    "    summaries = summarizeByClass(trainingSet)\n",
    "    # Test Model\n",
    "    predictions = getPredictions(summaries, testSet)\n",
    "    accuracy = getAccuracy(testSet, predictions)\n",
    "    print('Accuracy: {0}%'.format(accuracy))"
   ]
  },
  {
   "cell_type": "code",
   "execution_count": 118,
   "id": "65e80f00",
   "metadata": {},
   "outputs": [
    {
     "name": "stdout",
     "output_type": "stream",
     "text": [
      "153580 rows split into 92148 rows for Train and 61432 rows for test\n",
      "Accuracy: 60.07292616226071%\n"
     ]
    }
   ],
   "source": [
    "main()"
   ]
  },
  {
   "cell_type": "markdown",
   "id": "43060679",
   "metadata": {},
   "source": [
    "## Using Sklearn for Naive Bayes"
   ]
  },
  {
   "cell_type": "code",
   "execution_count": 120,
   "id": "4d4cd56a",
   "metadata": {},
   "outputs": [],
   "source": [
    "from sklearn import datasets, metrics\n",
    "from sklearn.naive_bayes import GaussianNB"
   ]
  },
  {
   "cell_type": "code",
   "execution_count": 125,
   "id": "7a73a2b8",
   "metadata": {},
   "outputs": [
    {
     "name": "stdout",
     "output_type": "stream",
     "text": [
      "dict_keys(['data', 'target', 'frame', 'target_names', 'DESCR', 'feature_names', 'filename', 'data_module'])\n"
     ]
    }
   ],
   "source": [
    "irisDataset = datasets.load_iris()\n",
    "print(irisDataset.keys())\n",
    "model = GaussianNB().fit(irisDataset.data, irisDataset.target)"
   ]
  },
  {
   "cell_type": "code",
   "execution_count": 127,
   "id": "0b928844",
   "metadata": {},
   "outputs": [],
   "source": [
    "expected = irisDataset.target\n",
    "predicted = model.predict(irisDataset.data)"
   ]
  },
  {
   "cell_type": "code",
   "execution_count": 129,
   "id": "0e5db205",
   "metadata": {},
   "outputs": [
    {
     "data": {
      "text/plain": [
       "'              precision    recall  f1-score   support\\n\\n           0       1.00      1.00      1.00        50\\n           1       0.94      0.94      0.94        50\\n           2       0.94      0.94      0.94        50\\n\\n    accuracy                           0.96       150\\n   macro avg       0.96      0.96      0.96       150\\nweighted avg       0.96      0.96      0.96       150\\n'"
      ]
     },
     "execution_count": 129,
     "metadata": {},
     "output_type": "execute_result"
    }
   ],
   "source": [
    "classification_report(expected, predicted)"
   ]
  },
  {
   "cell_type": "code",
   "execution_count": 130,
   "id": "1329407f",
   "metadata": {},
   "outputs": [
    {
     "data": {
      "text/plain": [
       "array([[50,  0,  0],\n",
       "       [ 0, 47,  3],\n",
       "       [ 0,  3, 47]], dtype=int64)"
      ]
     },
     "execution_count": 130,
     "metadata": {},
     "output_type": "execute_result"
    }
   ],
   "source": [
    "confusion_matrix(expected, predicted)"
   ]
  },
  {
   "cell_type": "markdown",
   "id": "34a217d5",
   "metadata": {},
   "source": [
    "# SUPPORT VECTOR MACHINE"
   ]
  },
  {
   "cell_type": "markdown",
   "id": "3e73424b",
   "metadata": {},
   "source": [
    "# UNSUPERVISED LEARNING: K-MEANS, C-MEANS, APRIORI ALGORITHM, ASSOCIATION RULE MINING\n",
    "### All used in grouping data based on intrinsic properties of the data points"
   ]
  },
  {
   "cell_type": "code",
   "execution_count": null,
   "id": "772c0242",
   "metadata": {},
   "outputs": [],
   "source": [
    "# REINFORCEMENT LEARNING"
   ]
  }
 ],
 "metadata": {
  "kernelspec": {
   "display_name": "Python 3 (ipykernel)",
   "language": "python",
   "name": "python3"
  },
  "language_info": {
   "codemirror_mode": {
    "name": "ipython",
    "version": 3
   },
   "file_extension": ".py",
   "mimetype": "text/x-python",
   "name": "python",
   "nbconvert_exporter": "python",
   "pygments_lexer": "ipython3",
   "version": "3.9.12"
  }
 },
 "nbformat": 4,
 "nbformat_minor": 5
}
