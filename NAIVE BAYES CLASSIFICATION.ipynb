{
 "cells": [
  {
   "cell_type": "code",
   "execution_count": 1,
   "id": "7d6b0c15",
   "metadata": {},
   "outputs": [],
   "source": [
    "import pandas as pd\n",
    "import numpy as np"
   ]
  },
  {
   "cell_type": "code",
   "execution_count": 2,
   "id": "8b472689",
   "metadata": {},
   "outputs": [
    {
     "name": "stdout",
     "output_type": "stream",
     "text": [
      "'D1', 'D2', 'D3', 'D4', 'D5', 'D6', 'D7', 'D8', 'D9', 'D10', 'D11', 'D12', 'D13', 'D14', "
     ]
    }
   ],
   "source": [
    "for i in range(14):\n",
    "    print(\"'D\" + str(i +1) + \"',\", end=' ')"
   ]
  },
  {
   "cell_type": "code",
   "execution_count": 3,
   "id": "9b01fade",
   "metadata": {},
   "outputs": [],
   "source": [
    "data_dict = {'Days':['D1', 'D2', 'D3', 'D4', 'D5', 'D6', 'D7', 'D8', 'D9', 'D10', 'D11', 'D12', 'D13', 'D14'],\n",
    "             'Outlook':['S', 'S', 'O', 'R', 'R', 'R', 'O', 'S', 'S', 'R', 'S', 'O', 'O', 'R'],\n",
    "             'Humidity':['H', 'H', 'H', 'H', 'N', 'N', 'N', 'H', 'N', 'N', 'N', 'H', 'N', 'H'],\n",
    "             'Windy':['W', 'S', 'W', 'W', 'W', 'S', 'S', 'W', 'W', 'W', 'S', 'S', 'W', 'S'],\n",
    "             'Play':['N', 'N', 'Y', 'Y', 'Y', 'N', 'Y', 'N', 'Y', 'Y', 'Y', 'Y', 'Y', 'N']}\n",
    "data = pd.DataFrame(data_dict)"
   ]
  },
  {
   "cell_type": "code",
   "execution_count": 4,
   "id": "f25f4581",
   "metadata": {},
   "outputs": [
    {
     "data": {
      "text/html": [
       "<div>\n",
       "<style scoped>\n",
       "    .dataframe tbody tr th:only-of-type {\n",
       "        vertical-align: middle;\n",
       "    }\n",
       "\n",
       "    .dataframe tbody tr th {\n",
       "        vertical-align: top;\n",
       "    }\n",
       "\n",
       "    .dataframe thead th {\n",
       "        text-align: right;\n",
       "    }\n",
       "</style>\n",
       "<table border=\"1\" class=\"dataframe\">\n",
       "  <thead>\n",
       "    <tr style=\"text-align: right;\">\n",
       "      <th></th>\n",
       "      <th>Days</th>\n",
       "      <th>Outlook</th>\n",
       "      <th>Humidity</th>\n",
       "      <th>Windy</th>\n",
       "      <th>Play</th>\n",
       "    </tr>\n",
       "  </thead>\n",
       "  <tbody>\n",
       "    <tr>\n",
       "      <th>0</th>\n",
       "      <td>D1</td>\n",
       "      <td>S</td>\n",
       "      <td>H</td>\n",
       "      <td>W</td>\n",
       "      <td>N</td>\n",
       "    </tr>\n",
       "    <tr>\n",
       "      <th>1</th>\n",
       "      <td>D2</td>\n",
       "      <td>S</td>\n",
       "      <td>H</td>\n",
       "      <td>S</td>\n",
       "      <td>N</td>\n",
       "    </tr>\n",
       "    <tr>\n",
       "      <th>2</th>\n",
       "      <td>D3</td>\n",
       "      <td>O</td>\n",
       "      <td>H</td>\n",
       "      <td>W</td>\n",
       "      <td>Y</td>\n",
       "    </tr>\n",
       "    <tr>\n",
       "      <th>3</th>\n",
       "      <td>D4</td>\n",
       "      <td>R</td>\n",
       "      <td>H</td>\n",
       "      <td>W</td>\n",
       "      <td>Y</td>\n",
       "    </tr>\n",
       "    <tr>\n",
       "      <th>4</th>\n",
       "      <td>D5</td>\n",
       "      <td>R</td>\n",
       "      <td>N</td>\n",
       "      <td>W</td>\n",
       "      <td>Y</td>\n",
       "    </tr>\n",
       "    <tr>\n",
       "      <th>5</th>\n",
       "      <td>D6</td>\n",
       "      <td>R</td>\n",
       "      <td>N</td>\n",
       "      <td>S</td>\n",
       "      <td>N</td>\n",
       "    </tr>\n",
       "    <tr>\n",
       "      <th>6</th>\n",
       "      <td>D7</td>\n",
       "      <td>O</td>\n",
       "      <td>N</td>\n",
       "      <td>S</td>\n",
       "      <td>Y</td>\n",
       "    </tr>\n",
       "    <tr>\n",
       "      <th>7</th>\n",
       "      <td>D8</td>\n",
       "      <td>S</td>\n",
       "      <td>H</td>\n",
       "      <td>W</td>\n",
       "      <td>N</td>\n",
       "    </tr>\n",
       "    <tr>\n",
       "      <th>8</th>\n",
       "      <td>D9</td>\n",
       "      <td>S</td>\n",
       "      <td>N</td>\n",
       "      <td>W</td>\n",
       "      <td>Y</td>\n",
       "    </tr>\n",
       "    <tr>\n",
       "      <th>9</th>\n",
       "      <td>D10</td>\n",
       "      <td>R</td>\n",
       "      <td>N</td>\n",
       "      <td>W</td>\n",
       "      <td>Y</td>\n",
       "    </tr>\n",
       "    <tr>\n",
       "      <th>10</th>\n",
       "      <td>D11</td>\n",
       "      <td>S</td>\n",
       "      <td>N</td>\n",
       "      <td>S</td>\n",
       "      <td>Y</td>\n",
       "    </tr>\n",
       "    <tr>\n",
       "      <th>11</th>\n",
       "      <td>D12</td>\n",
       "      <td>O</td>\n",
       "      <td>H</td>\n",
       "      <td>S</td>\n",
       "      <td>Y</td>\n",
       "    </tr>\n",
       "    <tr>\n",
       "      <th>12</th>\n",
       "      <td>D13</td>\n",
       "      <td>O</td>\n",
       "      <td>N</td>\n",
       "      <td>W</td>\n",
       "      <td>Y</td>\n",
       "    </tr>\n",
       "    <tr>\n",
       "      <th>13</th>\n",
       "      <td>D14</td>\n",
       "      <td>R</td>\n",
       "      <td>H</td>\n",
       "      <td>S</td>\n",
       "      <td>N</td>\n",
       "    </tr>\n",
       "  </tbody>\n",
       "</table>\n",
       "</div>"
      ],
      "text/plain": [
       "   Days Outlook Humidity Windy Play\n",
       "0    D1       S        H     W    N\n",
       "1    D2       S        H     S    N\n",
       "2    D3       O        H     W    Y\n",
       "3    D4       R        H     W    Y\n",
       "4    D5       R        N     W    Y\n",
       "5    D6       R        N     S    N\n",
       "6    D7       O        N     S    Y\n",
       "7    D8       S        H     W    N\n",
       "8    D9       S        N     W    Y\n",
       "9   D10       R        N     W    Y\n",
       "10  D11       S        N     S    Y\n",
       "11  D12       O        H     S    Y\n",
       "12  D13       O        N     W    Y\n",
       "13  D14       R        H     S    N"
      ]
     },
     "execution_count": 4,
     "metadata": {},
     "output_type": "execute_result"
    }
   ],
   "source": [
    "data"
   ]
  },
  {
   "cell_type": "code",
   "execution_count": 5,
   "id": "cf9cbdec",
   "metadata": {},
   "outputs": [],
   "source": [
    "def encode(x):\n",
    "    if x == 'S':\n",
    "        return 'Sunny'\n",
    "    elif x == 'O':\n",
    "        return 'Overcast'\n",
    "    else:\n",
    "        #x == 'L':\n",
    "        return 'Rainy'\n",
    "   # else:\n",
    "    #    return 'Rainy'"
   ]
  },
  {
   "cell_type": "code",
   "execution_count": 6,
   "id": "c62b43c1",
   "metadata": {},
   "outputs": [],
   "source": [
    "#data['Outlook'] = [encode(x) for x in data_dict['Outlook']]\n",
    "#data.to_csv(r'./dataset/Outlook_Naive_Bayes.csv')"
   ]
  },
  {
   "cell_type": "code",
   "execution_count": 7,
   "id": "db5fd3a1",
   "metadata": {},
   "outputs": [],
   "source": [
    "data = pd.read_csv(r'./dataset/Outlook_Naive_Bayes.csv')"
   ]
  },
  {
   "cell_type": "code",
   "execution_count": 8,
   "id": "c0f79d17",
   "metadata": {},
   "outputs": [
    {
     "data": {
      "text/plain": [
       "Outlook   Humidity  Windy   Play\n",
       "Overcast  High      Strong  Yes     1\n",
       "                    Weak    Yes     1\n",
       "          Low       Strong  Yes     1\n",
       "                    Weak    Yes     1\n",
       "Rainy     High      Strong  No      1\n",
       "                    Weak    Yes     1\n",
       "          Low       Strong  No      1\n",
       "                    Weak    Yes     2\n",
       "Sunny     High      Strong  No      1\n",
       "                    Weak    No      2\n",
       "          Low       Strong  Yes     1\n",
       "                    Weak    Yes     1\n",
       "Name: Play, dtype: int64"
      ]
     },
     "execution_count": 8,
     "metadata": {},
     "output_type": "execute_result"
    }
   ],
   "source": [
    "data.groupby(['Outlook', 'Humidity', 'Windy'])['Play'].value_counts()"
   ]
  },
  {
   "cell_type": "code",
   "execution_count": 9,
   "id": "21126cb1",
   "metadata": {},
   "outputs": [
    {
     "data": {
      "text/plain": [
       "['No', 'Yes']"
      ]
     },
     "execution_count": 9,
     "metadata": {},
     "output_type": "execute_result"
    }
   ],
   "source": [
    "list(data['Play'].unique())"
   ]
  },
  {
   "cell_type": "code",
   "execution_count": 10,
   "id": "d070e7ed",
   "metadata": {},
   "outputs": [
    {
     "data": {
      "text/plain": [
       "Index(['No', 'Yes'], dtype='object')"
      ]
     },
     "execution_count": 10,
     "metadata": {},
     "output_type": "execute_result"
    }
   ],
   "source": [
    "data[data['Outlook'] == 'Sunny']['Play'].value_counts().keys()"
   ]
  },
  {
   "cell_type": "code",
   "execution_count": 11,
   "id": "d5e40206",
   "metadata": {},
   "outputs": [
    {
     "data": {
      "text/plain": [
       "array(['Sunny', 'Overcast', 'Rainy'], dtype=object)"
      ]
     },
     "execution_count": 11,
     "metadata": {},
     "output_type": "execute_result"
    }
   ],
   "source": [
    "data['Outlook'].unique()"
   ]
  },
  {
   "cell_type": "code",
   "execution_count": 12,
   "id": "22230eba",
   "metadata": {},
   "outputs": [
    {
     "data": {
      "text/plain": [
       "Unnamed: 0    5\n",
       "Days          5\n",
       "Outlook       5\n",
       "Humidity      5\n",
       "Windy         5\n",
       "Play          5\n",
       "dtype: int64"
      ]
     },
     "execution_count": 12,
     "metadata": {},
     "output_type": "execute_result"
    }
   ],
   "source": [
    "data[data['Outlook']== 'Sunny'].count()"
   ]
  },
  {
   "cell_type": "code",
   "execution_count": 28,
   "id": "49adbf6f",
   "metadata": {},
   "outputs": [
    {
     "name": "stdout",
     "output_type": "stream",
     "text": [
      "[2, 3]\n",
      "2\n",
      "[4, 0]\n",
      "4\n",
      "[3, 2]\n",
      "3\n",
      "[3, 4]\n",
      "3\n",
      "[6, 1]\n",
      "6\n",
      "[6, 2]\n",
      "6\n",
      "[3, 3]\n",
      "3\n",
      "3\n"
     ]
    },
    {
     "data": {
      "text/plain": [
       "{'Outlook': {'Sunny': [2, 3], 'Overcast': [4, 0], 'Rainy': [3, 2]},\n",
       " 'Humidity': {'High': [3, 4], 'Low': [6, 1]},\n",
       " 'Windy': {'Weak': [6, 2], 'Strong': [3, 3]}}"
      ]
     },
     "execution_count": 28,
     "metadata": {},
     "output_type": "execute_result"
    }
   ],
   "source": [
    "def getFrequencyTable(data, xLabels=list(data.columns)[1:-1], targetLabel=list(data.columns)[-1]):    \n",
    "    frequency_table = {}\n",
    "    features = xLabels\n",
    "    values = {}\n",
    "    all_outcomes=[]\n",
    "    outcomes=[]\n",
    "    labels = list(data[targetLabel].unique())\n",
    "    labels.reverse()\n",
    "    #print(labels)\n",
    "\n",
    "\n",
    "    for feature in features:\n",
    "            values[feature] = []\n",
    "            for value in list(data[feature].unique()):\n",
    "                values[feature].append(value)\n",
    "\n",
    "    for feature in features:\n",
    "        frequency_table[feature] ={}\n",
    "        for value in values[feature]:\n",
    "            frequency_table[feature][value] =[]\n",
    "\n",
    "    for feature in features:\n",
    "        #print(feature)\n",
    "        for value in list(data[feature].unique()):\n",
    "            #print(value)\n",
    "            for outcome in labels:\n",
    "                if outcome in data[data[feature] == value][targetLabel].value_counts().keys():\n",
    "                    outcomes.append(data[data[feature] == value][targetLabel].value_counts()[outcome])\n",
    "                else:\n",
    "                    outcomes.append(0)\n",
    "            frequency_table[feature][value] = outcomes\n",
    "            outcomes=[]\n",
    "            \n",
    "    valueList=[]\n",
    "    total = [0,0]\n",
    "    for features in frequency_table.keys():\n",
    "        for values in frequency_table[features].keys():\n",
    "            print(frequency_table[features][values])\n",
    "            for i in frequency_table[features][values]:\n",
    "                if frequency_table[features][values].index(i) == 0:\n",
    "                    print(i)\n",
    "\n",
    "                \n",
    "   \n",
    "    return frequency_table\n",
    "\n",
    "freqTable = getFrequencyTable(data, ['Outlook', 'Humidity', 'Windy'], 'Play')\n",
    "freqTable"
   ]
  },
  {
   "cell_type": "code",
   "execution_count": 19,
   "id": "d807a730",
   "metadata": {},
   "outputs": [
    {
     "name": "stdout",
     "output_type": "stream",
     "text": [
      "[2, 3]\n",
      "[4, 0]\n",
      "[3, 2]\n",
      "[3, 4]\n",
      "[6, 1]\n",
      "[6, 2]\n",
      "[3, 3]\n"
     ]
    },
    {
     "data": {
      "text/plain": [
       "{'Outlook': {'Sunny': [2, 3], 'Overcast': [4, 0], 'Rainy': [3, 2]},\n",
       " 'Humidity': {'High': [3, 4], 'Low': [6, 1]},\n",
       " 'Windy': {'Weak': [6, 2], 'Strong': [3, 3]}}"
      ]
     },
     "execution_count": 19,
     "metadata": {},
     "output_type": "execute_result"
    }
   ],
   "source": [
    "freqTable = getFrequencyTable(data, ['Outlook', 'Humidity', 'Windy'], 'Play')\n",
    "freqTable"
   ]
  }
 ],
 "metadata": {
  "kernelspec": {
   "display_name": "Python 3 (ipykernel)",
   "language": "python",
   "name": "python3"
  },
  "language_info": {
   "codemirror_mode": {
    "name": "ipython",
    "version": 3
   },
   "file_extension": ".py",
   "mimetype": "text/x-python",
   "name": "python",
   "nbconvert_exporter": "python",
   "pygments_lexer": "ipython3",
   "version": "3.9.12"
  }
 },
 "nbformat": 4,
 "nbformat_minor": 5
}
